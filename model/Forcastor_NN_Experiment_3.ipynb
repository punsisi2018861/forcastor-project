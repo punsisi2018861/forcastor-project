{
 "cells": [
  {
   "cell_type": "markdown",
   "metadata": {
    "id": "jABYfORAjmAa"
   },
   "source": [
    "# Predicting Next Transaction Date\n",
    "\n",
    "1.   Covert the date pameter\n",
    "2.   Calculate the Total Sale per each invoice\n",
    "3.  RFM Segmentation\n",
    "*   Recency Cluster\n",
    "*   Frequency Cluster\n",
    "*   Monitory Cluster\n",
    "\n",
    "\n",
    "4. Setting overall score\n",
    "5. Data normalization\n",
    "6. Encoding independant variable\n",
    "7. Model Devlopemt\n",
    "\n"
   ]
  },
  {
   "cell_type": "code",
   "execution_count": 1,
   "metadata": {
    "colab": {
     "base_uri": "https://localhost:8080/",
     "height": 206
    },
    "id": "JQ89PYTCLNa3",
    "outputId": "0bff9f63-2619-49d0-d0a0-883e9a5b3e02"
   },
   "outputs": [
    {
     "data": {
      "text/html": [
       "<div>\n",
       "<style scoped>\n",
       "    .dataframe tbody tr th:only-of-type {\n",
       "        vertical-align: middle;\n",
       "    }\n",
       "\n",
       "    .dataframe tbody tr th {\n",
       "        vertical-align: top;\n",
       "    }\n",
       "\n",
       "    .dataframe thead th {\n",
       "        text-align: right;\n",
       "    }\n",
       "</style>\n",
       "<table border=\"1\" class=\"dataframe\">\n",
       "  <thead>\n",
       "    <tr style=\"text-align: right;\">\n",
       "      <th></th>\n",
       "      <th>CustomerID</th>\n",
       "      <th>NextPurchaseDay</th>\n",
       "      <th>Recency</th>\n",
       "      <th>RecencyCluster</th>\n",
       "      <th>Frequency</th>\n",
       "      <th>FrequencyCluster</th>\n",
       "      <th>Revenue</th>\n",
       "      <th>RevenueCluster</th>\n",
       "      <th>OverallScore</th>\n",
       "      <th>Segment_High-Value</th>\n",
       "      <th>Segment_Low-Value</th>\n",
       "      <th>Segment_Mid-Value</th>\n",
       "    </tr>\n",
       "  </thead>\n",
       "  <tbody>\n",
       "    <tr>\n",
       "      <th>0</th>\n",
       "      <td>13085.0</td>\n",
       "      <td>9999.0</td>\n",
       "      <td>57</td>\n",
       "      <td>3</td>\n",
       "      <td>92</td>\n",
       "      <td>3</td>\n",
       "      <td>1459.46</td>\n",
       "      <td>0</td>\n",
       "      <td>6</td>\n",
       "      <td>0</td>\n",
       "      <td>0</td>\n",
       "      <td>1</td>\n",
       "    </tr>\n",
       "    <tr>\n",
       "      <th>1</th>\n",
       "      <td>18087.0</td>\n",
       "      <td>46.0</td>\n",
       "      <td>44</td>\n",
       "      <td>3</td>\n",
       "      <td>95</td>\n",
       "      <td>3</td>\n",
       "      <td>14411.62</td>\n",
       "      <td>0</td>\n",
       "      <td>6</td>\n",
       "      <td>0</td>\n",
       "      <td>0</td>\n",
       "      <td>1</td>\n",
       "    </tr>\n",
       "    <tr>\n",
       "      <th>2</th>\n",
       "      <td>17519.0</td>\n",
       "      <td>116.0</td>\n",
       "      <td>33</td>\n",
       "      <td>3</td>\n",
       "      <td>224</td>\n",
       "      <td>3</td>\n",
       "      <td>5102.80</td>\n",
       "      <td>0</td>\n",
       "      <td>6</td>\n",
       "      <td>0</td>\n",
       "      <td>0</td>\n",
       "      <td>1</td>\n",
       "    </tr>\n",
       "    <tr>\n",
       "      <th>3</th>\n",
       "      <td>12362.0</td>\n",
       "      <td>40.0</td>\n",
       "      <td>12</td>\n",
       "      <td>3</td>\n",
       "      <td>275</td>\n",
       "      <td>3</td>\n",
       "      <td>5284.58</td>\n",
       "      <td>0</td>\n",
       "      <td>6</td>\n",
       "      <td>0</td>\n",
       "      <td>0</td>\n",
       "      <td>1</td>\n",
       "    </tr>\n",
       "    <tr>\n",
       "      <th>4</th>\n",
       "      <td>15712.0</td>\n",
       "      <td>38.0</td>\n",
       "      <td>9</td>\n",
       "      <td>3</td>\n",
       "      <td>167</td>\n",
       "      <td>3</td>\n",
       "      <td>3467.46</td>\n",
       "      <td>0</td>\n",
       "      <td>6</td>\n",
       "      <td>0</td>\n",
       "      <td>0</td>\n",
       "      <td>1</td>\n",
       "    </tr>\n",
       "  </tbody>\n",
       "</table>\n",
       "</div>"
      ],
      "text/plain": [
       "   CustomerID  NextPurchaseDay  Recency  RecencyCluster  Frequency  \\\n",
       "0     13085.0           9999.0       57               3         92   \n",
       "1     18087.0             46.0       44               3         95   \n",
       "2     17519.0            116.0       33               3        224   \n",
       "3     12362.0             40.0       12               3        275   \n",
       "4     15712.0             38.0        9               3        167   \n",
       "\n",
       "   FrequencyCluster   Revenue  RevenueCluster  OverallScore  \\\n",
       "0                 3   1459.46               0             6   \n",
       "1                 3  14411.62               0             6   \n",
       "2                 3   5102.80               0             6   \n",
       "3                 3   5284.58               0             6   \n",
       "4                 3   3467.46               0             6   \n",
       "\n",
       "   Segment_High-Value  Segment_Low-Value  Segment_Mid-Value  \n",
       "0                   0                  0                  1  \n",
       "1                   0                  0                  1  \n",
       "2                   0                  0                  1  \n",
       "3                   0                  0                  1  \n",
       "4                   0                  0                  1  "
      ]
     },
     "execution_count": 1,
     "metadata": {},
     "output_type": "execute_result"
    }
   ],
   "source": [
    "# importing necessary Python libraries\n",
    "import pandas as pd \n",
    "import numpy as np\n",
    "import matplotlib.pyplot as plt\n",
    "import seaborn as sns\n",
    "\n",
    "import plotly.express as px\n",
    "#import plotly.offline as pyoff\n",
    "import plotly.graph_objs as go \n",
    "#import plotly.figure_factory as ff\n",
    "\n",
    "# avoid displaying warnings\n",
    "import warnings\n",
    "warnings.filterwarnings(\"ignore\")\n",
    "\n",
    "#import machine learning related libraries\n",
    "from sklearn.svm import SVC\n",
    "from sklearn.multioutput import MultiOutputClassifier\n",
    "from sklearn.ensemble import GradientBoostingClassifier\n",
    "from sklearn.tree import DecisionTreeClassifier\n",
    "from sklearn.neighbors import KNeighborsClassifier\n",
    "from sklearn.naive_bayes import GaussianNB\n",
    "from sklearn.ensemble import RandomForestClassifier\n",
    "from sklearn.linear_model import LogisticRegression\n",
    "from sklearn.model_selection import KFold, cross_val_score, train_test_split, GridSearchCV, cross_validate\n",
    "from sklearn.metrics import accuracy_score, f1_score, precision_score, recall_score, confusion_matrix\n",
    "from sklearn.cluster import KMeans\n",
    "import xgboost as xgb\n",
    "import time\n",
    "\n",
    "from sklearn.preprocessing import MinMaxScaler\n",
    "\n",
    "# Loading the data\n",
    "df = pd.read_csv('online_retail_II.csv',encoding='latin1')\n",
    "# Rename the following columns: \n",
    "#    Invoice to InvoiceNo\n",
    "#    Customer ID to CustomerID\n",
    "#    Price to UnitPrice\n",
    "\n",
    "df.rename(columns={'Invoice':'InvoiceNo', 'Customer ID':'CustomerID', 'Price':'UnitPrice'}, inplace=True)\n",
    "\n",
    "df_data = df.dropna()\n",
    "df_data.InvoiceDate = pd.to_datetime(df_data.InvoiceDate)\n",
    "df_data['InvoiceYearMonth'] = df_data['InvoiceDate'].map(lambda date: 100*date.year + date.month)\n",
    "df_data['Revenue'] = df_data.UnitPrice * df_data.Quantity\n",
    "ctm_revenue = df_data.groupby('InvoiceYearMonth').Revenue.sum().reset_index()\n",
    "\n",
    "ctm_bhvr_dt = df_data[(df_data.InvoiceDate < pd.Timestamp(2011,9,1)) & \n",
    "      (df_data.InvoiceDate >= pd.Timestamp(2009,12,1))].reset_index(drop=True)\n",
    "\n",
    "\n",
    "ctm_next_quarter = df_data[(df_data.InvoiceDate < pd.Timestamp(2011,12,1)) & \n",
    "      (df_data.InvoiceDate >= pd.Timestamp(2011,9,1))].reset_index(drop=True)\n",
    "\n",
    "# Get the distinct customers in the dataframe ctm_bhvr_dt\n",
    "ctm_dt = pd.DataFrame(ctm_bhvr_dt['CustomerID'].unique())\n",
    "\n",
    "# Rename the column to CustomerID.\n",
    "ctm_dt.columns = ['CustomerID']\n",
    "\n",
    "# Create a dataframe with CustomerID and customers first purchase \n",
    "# date in ctm_next_quarter\n",
    "ctm_1st_purchase_in_next_quarter = ctm_next_quarter.groupby('CustomerID').InvoiceDate.min().reset_index()\n",
    "ctm_1st_purchase_in_next_quarter.columns = ['CustomerID','MinPurchaseDate']\n",
    "\n",
    "ctm_last_purchase_bhvr_dt = ctm_bhvr_dt.groupby('CustomerID').InvoiceDate.max().reset_index()\n",
    "ctm_last_purchase_bhvr_dt.columns = ['CustomerID','MaxPurchaseDate']\n",
    "\n",
    "# Merge two dataframes ctm_last_purchase_bhvr_dt and ctm_1st_purchase_in_next_quarter\n",
    "ctm_purchase_dates = pd.merge(ctm_last_purchase_bhvr_dt, ctm_1st_purchase_in_next_quarter, on='CustomerID', \n",
    "                              how='left')\n",
    "\n",
    "ctm_purchase_dates['NextPurchaseDay'] = (ctm_purchase_dates['MinPurchaseDate'] - ctm_purchase_dates['MaxPurchaseDate']).dt.days\n",
    "\n",
    "# merge with ctm_dt \n",
    "ctm_dt = pd.merge(ctm_dt, ctm_purchase_dates[['CustomerID','NextPurchaseDay']], on='CustomerID', how='left')\n",
    "\n",
    "ctm_dt = ctm_dt.fillna(9999)\n",
    "\n",
    "ctm_max_purchase = ctm_bhvr_dt.groupby('CustomerID').InvoiceDate.max().reset_index()\n",
    "ctm_max_purchase.columns = ['CustomerID','MaxPurchaseDate']\n",
    "\n",
    "# Find the recency in days \n",
    "ctm_max_purchase['Recency'] = (ctm_max_purchase['MaxPurchaseDate'].max() - ctm_max_purchase['MaxPurchaseDate']).dt.days\n",
    "\n",
    "# Merge the dataframes ctm_dt and ctm_max_purchase[['CustomerID', 'Recency']] on the CustomerID column.\n",
    "ctm_dt = pd.merge(ctm_dt, ctm_max_purchase[['CustomerID', 'Recency']], on='CustomerID')\n",
    "\n",
    "number_of_clusters = 4\n",
    "\n",
    "kmeans = KMeans(n_clusters=number_of_clusters)\n",
    "kmeans.fit(ctm_dt[['Recency']])\n",
    "ctm_dt['RecencyCluster'] = kmeans.predict(ctm_dt[['Recency']])\n",
    "\n",
    "def order_cluster(df, target_field_name, cluster_field_name, ascending):\n",
    "    \"\"\"\n",
    "    INPUT:\n",
    "        - df                  - pandas DataFrame\n",
    "        - target_field_name   - str - A column in the pandas DataFrame df\n",
    "        - cluster_field_name  - str - Expected to be a column in the pandas DataFrame df\n",
    "        - ascending           - Boolean\n",
    "        \n",
    "    OUTPUT:\n",
    "        - df_final            - pandas DataFrame with target_field_name and cluster_field_name as columns\n",
    "    \n",
    "    \"\"\"\n",
    "    # Add the string \"new_\" to cluster_field_name\n",
    "    new_cluster_field_name = \"new_\" + cluster_field_name\n",
    "    \n",
    "    # Create a new dataframe by grouping the input dataframe by cluster_field_name and extract target_field_name \n",
    "    # and find the mean\n",
    "    df_new = df.groupby(cluster_field_name)[target_field_name].mean().reset_index()\n",
    "    \n",
    "    # Sort the new dataframe df_new, by target_field_name in descending order\n",
    "    df_new = df_new.sort_values(by=target_field_name, ascending=ascending).reset_index(drop=True)\n",
    "    \n",
    "    # Create a new column in df_new with column name index and assign it values to df_new.index\n",
    "    df_new[\"index\"] = df_new.index\n",
    "    \n",
    "    # Create a new dataframe by merging input dataframe df and part of the columns of df_new based on \n",
    "    # cluster_field_name\n",
    "    df_final = pd.merge(df, df_new[[cluster_field_name, \"index\"]], on=cluster_field_name)\n",
    "    \n",
    "    # Update the dataframe df_final by deleting the column cluster_field_name\n",
    "    df_final = df_final.drop([cluster_field_name], axis=1)\n",
    "    \n",
    "    # Rename the column index to cluster_field_name\n",
    "    df_final = df_final.rename(columns={\"index\": cluster_field_name})\n",
    "    \n",
    "    return df_final\n",
    "\n",
    "ctm_dt = order_cluster(ctm_dt, 'Recency', 'RecencyCluster', False)\n",
    "\n",
    "#get order counts for each user and create a dataframe with it\n",
    "ctm_frequency = df_data.groupby('CustomerID').InvoiceDate.count().reset_index()\n",
    "ctm_frequency.columns = ['CustomerID','Frequency']\n",
    "\n",
    "#add this data to our main ctm_dt\n",
    "ctm_dt = pd.merge(ctm_dt, ctm_frequency, on='CustomerID')\n",
    "\n",
    "kmeans = KMeans(n_clusters=number_of_clusters)\n",
    "kmeans.fit(ctm_dt[['Frequency']])\n",
    "ctm_dt['FrequencyCluster'] = kmeans.predict(ctm_dt[['Frequency']])\n",
    "\n",
    "ctm_dt = order_cluster(ctm_dt, 'Frequency', 'FrequencyCluster', False)\n",
    "\n",
    "ctm_revenue = df_data.groupby('CustomerID').Revenue.sum().reset_index()\n",
    "\n",
    "#merge it with our ctm_dt\n",
    "ctm_dt = pd.merge(ctm_dt, ctm_revenue, on='CustomerID')\n",
    "\n",
    "#apply clustering\n",
    "kmeans = KMeans(n_clusters=number_of_clusters)\n",
    "kmeans.fit(ctm_dt[['Revenue']])\n",
    "ctm_dt['RevenueCluster'] = kmeans.predict(ctm_dt[['Revenue']])\n",
    "\n",
    "#order the cluster numbers\n",
    "ctm_dt = order_cluster(ctm_dt, 'Revenue', 'RevenueCluster', True)\n",
    "\n",
    "#calculate overall score and use mean() to see details\n",
    "ctm_dt['OverallScore'] = ctm_dt['RecencyCluster'] + ctm_dt['FrequencyCluster'] + ctm_dt['RevenueCluster']\n",
    "ctm_dt.groupby('OverallScore')['Recency','Frequency','Revenue'].mean()\n",
    "\n",
    "ctm_dt['Segment'] = 'Low-Value'\n",
    "ctm_dt.loc[ctm_dt['OverallScore'] > 4, 'Segment'] = 'Mid-Value'\n",
    "ctm_dt.loc[ctm_dt['OverallScore'] > 6, 'Segment'] = 'High-Value'\n",
    "\n",
    "#create ctm_class as a copy of ctm_dt before applying get_dummies\n",
    "ctm_class = ctm_dt.copy()\n",
    "ctm_class = pd.get_dummies(ctm_class)\n",
    "ctm_class.head()\n",
    "\n",
    "# ctm_class['NextPurchaseDayRange'] = 4  ## first week\n",
    "# ctm_class.loc[ctm_class.NextPurchaseDay>7,'NextPurchaseDayRange'] = 3 # second week\n",
    "# ctm_class.loc[ctm_class.NextPurchaseDay>14,'NextPurchaseDayRange'] = 2 # 3rd week\n",
    "# ctm_class.loc[ctm_class.NextPurchaseDay>30,'NextPurchaseDayRange'] = 1 # 4th week\n",
    "# ctm_class.loc[ctm_class.NextPurchaseDay>90,'NextPurchaseDayRange'] = 0 # more than 3 months\n",
    "\n",
    "# corr_matrix = ctm_class[ctm_class.columns].corr()\n",
    "# corr_df = pd.DataFrame(corr_matrix.min())\n",
    "# corr_df.columns = ['MinCorrelationCoeff']\n",
    "# corr_df['MaxCorrelationCoeff'] = corr_matrix[corr_matrix < 1].max()\n",
    "\n",
    "ctm_class.head()\n",
    "\n",
    "\n"
   ]
  },
  {
   "cell_type": "code",
   "execution_count": 2,
   "metadata": {
    "colab": {
     "base_uri": "https://localhost:8080/",
     "height": 250
    },
    "id": "4MN6-UmYdeEZ",
    "outputId": "8a9a5513-821f-4f33-d060-4bf08701aab7"
   },
   "outputs": [
    {
     "data": {
      "text/html": [
       "<div>\n",
       "<style scoped>\n",
       "    .dataframe tbody tr th:only-of-type {\n",
       "        vertical-align: middle;\n",
       "    }\n",
       "\n",
       "    .dataframe tbody tr th {\n",
       "        vertical-align: top;\n",
       "    }\n",
       "\n",
       "    .dataframe thead th {\n",
       "        text-align: right;\n",
       "    }\n",
       "</style>\n",
       "<table border=\"1\" class=\"dataframe\">\n",
       "  <thead>\n",
       "    <tr style=\"text-align: right;\">\n",
       "      <th></th>\n",
       "      <th>CustomerID</th>\n",
       "      <th>NextPurchaseDay</th>\n",
       "      <th>Recency</th>\n",
       "      <th>RecencyCluster</th>\n",
       "      <th>Frequency</th>\n",
       "      <th>FrequencyCluster</th>\n",
       "      <th>Revenue</th>\n",
       "      <th>RevenueCluster</th>\n",
       "      <th>OverallScore</th>\n",
       "      <th>Segment_High-Value</th>\n",
       "      <th>Segment_Low-Value</th>\n",
       "      <th>Segment_Mid-Value</th>\n",
       "      <th>NextPurchaseDayRange</th>\n",
       "    </tr>\n",
       "  </thead>\n",
       "  <tbody>\n",
       "    <tr>\n",
       "      <th>0</th>\n",
       "      <td>13085.0</td>\n",
       "      <td>9999.0</td>\n",
       "      <td>57</td>\n",
       "      <td>3</td>\n",
       "      <td>92</td>\n",
       "      <td>3</td>\n",
       "      <td>1459.46</td>\n",
       "      <td>0</td>\n",
       "      <td>6</td>\n",
       "      <td>0</td>\n",
       "      <td>0</td>\n",
       "      <td>1</td>\n",
       "      <td>0</td>\n",
       "    </tr>\n",
       "    <tr>\n",
       "      <th>1</th>\n",
       "      <td>18087.0</td>\n",
       "      <td>46.0</td>\n",
       "      <td>44</td>\n",
       "      <td>3</td>\n",
       "      <td>95</td>\n",
       "      <td>3</td>\n",
       "      <td>14411.62</td>\n",
       "      <td>0</td>\n",
       "      <td>6</td>\n",
       "      <td>0</td>\n",
       "      <td>0</td>\n",
       "      <td>1</td>\n",
       "      <td>1</td>\n",
       "    </tr>\n",
       "    <tr>\n",
       "      <th>2</th>\n",
       "      <td>17519.0</td>\n",
       "      <td>116.0</td>\n",
       "      <td>33</td>\n",
       "      <td>3</td>\n",
       "      <td>224</td>\n",
       "      <td>3</td>\n",
       "      <td>5102.80</td>\n",
       "      <td>0</td>\n",
       "      <td>6</td>\n",
       "      <td>0</td>\n",
       "      <td>0</td>\n",
       "      <td>1</td>\n",
       "      <td>0</td>\n",
       "    </tr>\n",
       "    <tr>\n",
       "      <th>3</th>\n",
       "      <td>12362.0</td>\n",
       "      <td>40.0</td>\n",
       "      <td>12</td>\n",
       "      <td>3</td>\n",
       "      <td>275</td>\n",
       "      <td>3</td>\n",
       "      <td>5284.58</td>\n",
       "      <td>0</td>\n",
       "      <td>6</td>\n",
       "      <td>0</td>\n",
       "      <td>0</td>\n",
       "      <td>1</td>\n",
       "      <td>1</td>\n",
       "    </tr>\n",
       "    <tr>\n",
       "      <th>4</th>\n",
       "      <td>15712.0</td>\n",
       "      <td>38.0</td>\n",
       "      <td>9</td>\n",
       "      <td>3</td>\n",
       "      <td>167</td>\n",
       "      <td>3</td>\n",
       "      <td>3467.46</td>\n",
       "      <td>0</td>\n",
       "      <td>6</td>\n",
       "      <td>0</td>\n",
       "      <td>0</td>\n",
       "      <td>1</td>\n",
       "      <td>1</td>\n",
       "    </tr>\n",
       "  </tbody>\n",
       "</table>\n",
       "</div>"
      ],
      "text/plain": [
       "   CustomerID  NextPurchaseDay  Recency  RecencyCluster  Frequency  \\\n",
       "0     13085.0           9999.0       57               3         92   \n",
       "1     18087.0             46.0       44               3         95   \n",
       "2     17519.0            116.0       33               3        224   \n",
       "3     12362.0             40.0       12               3        275   \n",
       "4     15712.0             38.0        9               3        167   \n",
       "\n",
       "   FrequencyCluster   Revenue  RevenueCluster  OverallScore  \\\n",
       "0                 3   1459.46               0             6   \n",
       "1                 3  14411.62               0             6   \n",
       "2                 3   5102.80               0             6   \n",
       "3                 3   5284.58               0             6   \n",
       "4                 3   3467.46               0             6   \n",
       "\n",
       "   Segment_High-Value  Segment_Low-Value  Segment_Mid-Value  \\\n",
       "0                   0                  0                  1   \n",
       "1                   0                  0                  1   \n",
       "2                   0                  0                  1   \n",
       "3                   0                  0                  1   \n",
       "4                   0                  0                  1   \n",
       "\n",
       "   NextPurchaseDayRange  \n",
       "0                     0  \n",
       "1                     1  \n",
       "2                     0  \n",
       "3                     1  \n",
       "4                     1  "
      ]
     },
     "execution_count": 2,
     "metadata": {},
     "output_type": "execute_result"
    }
   ],
   "source": [
    "ctm_class['NextPurchaseDayRange'] = 2  ## first week\n",
    "ctm_class.loc[ctm_class.NextPurchaseDay>30,'NextPurchaseDayRange'] = 1 # 4th week\n",
    "ctm_class.loc[ctm_class.NextPurchaseDay>90,'NextPurchaseDayRange'] = 0 # more than 3 months\n",
    "ctm_class.head()"
   ]
  },
  {
   "cell_type": "code",
   "execution_count": 3,
   "metadata": {
    "id": "0Z-AAl0FJJ2P"
   },
   "outputs": [],
   "source": [
    "from keras.utils import to_categorical\n",
    "from sklearn.preprocessing import LabelEncoder\n",
    "ctm_class = ctm_class.drop('NextPurchaseDay', axis=1)\n",
    "ctm_class = ctm_class.drop('CustomerID', axis=1)\n",
    "X, y = ctm_class.drop('NextPurchaseDayRange',axis=1), ctm_class.NextPurchaseDayRange\n",
    "# y = to_categorical(y)\n",
    "\n",
    "# encode class values as integers\n",
    "encoder = LabelEncoder()\n",
    "encoder.fit(y)\n",
    "y = encoder.transform(y)\n",
    "\n",
    "# convert integers to dummy variables (i.e. one hot encoded)\n",
    "y = to_categorical(y)\n",
    "\n",
    "sc = MinMaxScaler(feature_range=(0, 1))\n",
    "X = sc.fit_transform(X)\n",
    "\n",
    "X_train, X_test, y_train, y_test = train_test_split(X, y, test_size=0.2, random_state=44)"
   ]
  },
  {
   "cell_type": "code",
   "execution_count": 4,
   "metadata": {
    "id": "pRByQwX-JNXT"
   },
   "outputs": [],
   "source": [
    "import keras.backend as K\n",
    "K.clear_session()"
   ]
  },
  {
   "cell_type": "code",
   "execution_count": 5,
   "metadata": {
    "id": "Hixu-9LNJP25"
   },
   "outputs": [],
   "source": [
    "from keras.models import Sequential\n",
    "from keras.layers import Dense\n",
    "from keras.layers import LSTM\n",
    "from keras.layers import Dropout\n",
    "# Define the model\n",
    "model = Sequential()\n",
    "model.add(Dense(64, input_shape = (10,), activation='relu'))\n",
    "model.add(Dropout(0.2))\n",
    "\n",
    "model.add(Dense(32, activation='relu'))\n",
    "model.add(Dropout(0.2))\n",
    "\n",
    "model.add(Dense(16, activation='relu'))\n",
    "model.add(Dropout(0.2))\n",
    "\n",
    "model.add(Dense(3, activation='sigmoid'))\n",
    "\n",
    "\n",
    "model.compile(loss='categorical_crossentropy', optimizer='adam',metrics=['accuracy'])"
   ]
  },
  {
   "cell_type": "code",
   "execution_count": 6,
   "metadata": {
    "colab": {
     "base_uri": "https://localhost:8080/"
    },
    "id": "forv430kJYWV",
    "outputId": "cff8d903-9c5e-4673-88ad-011a95b0cf93"
   },
   "outputs": [
    {
     "name": "stdout",
     "output_type": "stream",
     "text": [
      "Epoch 1/50\n",
      "266/266 [==============================] - 1s 3ms/step - loss: 0.5019 - accuracy: 0.8109 - val_loss: 0.3641 - val_accuracy: 0.8363\n",
      "Epoch 2/50\n",
      "266/266 [==============================] - 0s 2ms/step - loss: 0.3331 - accuracy: 0.8342 - val_loss: 0.3219 - val_accuracy: 0.8260\n",
      "Epoch 3/50\n",
      "266/266 [==============================] - 0s 2ms/step - loss: 0.3133 - accuracy: 0.8393 - val_loss: 0.3187 - val_accuracy: 0.8401\n",
      "Epoch 4/50\n",
      "266/266 [==============================] - 0s 2ms/step - loss: 0.3015 - accuracy: 0.8445 - val_loss: 0.3008 - val_accuracy: 0.8382\n",
      "Epoch 5/50\n",
      "266/266 [==============================] - 0s 2ms/step - loss: 0.3011 - accuracy: 0.8485 - val_loss: 0.2960 - val_accuracy: 0.8354\n",
      "Epoch 6/50\n",
      "266/266 [==============================] - 0s 2ms/step - loss: 0.2945 - accuracy: 0.8504 - val_loss: 0.3015 - val_accuracy: 0.8420\n",
      "Epoch 7/50\n",
      "266/266 [==============================] - 0s 2ms/step - loss: 0.2903 - accuracy: 0.8530 - val_loss: 0.3018 - val_accuracy: 0.8420\n",
      "Epoch 8/50\n",
      "266/266 [==============================] - 1s 2ms/step - loss: 0.2889 - accuracy: 0.8539 - val_loss: 0.2898 - val_accuracy: 0.8457\n",
      "Epoch 9/50\n",
      "266/266 [==============================] - 1s 2ms/step - loss: 0.2877 - accuracy: 0.8494 - val_loss: 0.2851 - val_accuracy: 0.8476\n",
      "Epoch 10/50\n",
      "266/266 [==============================] - 0s 2ms/step - loss: 0.2868 - accuracy: 0.8530 - val_loss: 0.2864 - val_accuracy: 0.8504\n",
      "Epoch 11/50\n",
      "266/266 [==============================] - 1s 2ms/step - loss: 0.2808 - accuracy: 0.8579 - val_loss: 0.3053 - val_accuracy: 0.8438\n",
      "Epoch 12/50\n",
      "266/266 [==============================] - 0s 2ms/step - loss: 0.2854 - accuracy: 0.8530 - val_loss: 0.2936 - val_accuracy: 0.8448\n",
      "Epoch 13/50\n",
      "266/266 [==============================] - 1s 2ms/step - loss: 0.2814 - accuracy: 0.8530 - val_loss: 0.2967 - val_accuracy: 0.8495\n",
      "Epoch 14/50\n",
      "266/266 [==============================] - 1s 2ms/step - loss: 0.2836 - accuracy: 0.8525 - val_loss: 0.2819 - val_accuracy: 0.8495\n",
      "Epoch 15/50\n",
      "266/266 [==============================] - 1s 2ms/step - loss: 0.2800 - accuracy: 0.8537 - val_loss: 0.2862 - val_accuracy: 0.8514\n",
      "Epoch 16/50\n",
      "266/266 [==============================] - 0s 2ms/step - loss: 0.2831 - accuracy: 0.8523 - val_loss: 0.2796 - val_accuracy: 0.8551\n",
      "Epoch 17/50\n",
      "266/266 [==============================] - 0s 2ms/step - loss: 0.2784 - accuracy: 0.8553 - val_loss: 0.2764 - val_accuracy: 0.8551\n",
      "Epoch 18/50\n",
      "266/266 [==============================] - 0s 2ms/step - loss: 0.2793 - accuracy: 0.8534 - val_loss: 0.2804 - val_accuracy: 0.8476\n",
      "Epoch 19/50\n",
      "266/266 [==============================] - 0s 2ms/step - loss: 0.2772 - accuracy: 0.8579 - val_loss: 0.2962 - val_accuracy: 0.8476\n",
      "Epoch 20/50\n",
      "266/266 [==============================] - 0s 2ms/step - loss: 0.2825 - accuracy: 0.8556 - val_loss: 0.2817 - val_accuracy: 0.8523\n",
      "Epoch 21/50\n",
      "266/266 [==============================] - 0s 2ms/step - loss: 0.2766 - accuracy: 0.8551 - val_loss: 0.2784 - val_accuracy: 0.8504\n",
      "Epoch 22/50\n",
      "266/266 [==============================] - 0s 2ms/step - loss: 0.2801 - accuracy: 0.8551 - val_loss: 0.2775 - val_accuracy: 0.8598\n",
      "Epoch 23/50\n",
      "266/266 [==============================] - 1s 2ms/step - loss: 0.2803 - accuracy: 0.8551 - val_loss: 0.2758 - val_accuracy: 0.8608\n",
      "Epoch 24/50\n",
      "266/266 [==============================] - 0s 2ms/step - loss: 0.2795 - accuracy: 0.8530 - val_loss: 0.2795 - val_accuracy: 0.8570\n",
      "Epoch 25/50\n",
      "266/266 [==============================] - 0s 2ms/step - loss: 0.2765 - accuracy: 0.8560 - val_loss: 0.2762 - val_accuracy: 0.8514\n",
      "Epoch 26/50\n",
      "266/266 [==============================] - 1s 2ms/step - loss: 0.2741 - accuracy: 0.8577 - val_loss: 0.2753 - val_accuracy: 0.8523\n",
      "Epoch 27/50\n",
      "266/266 [==============================] - 1s 2ms/step - loss: 0.2768 - accuracy: 0.8556 - val_loss: 0.2815 - val_accuracy: 0.8514\n",
      "Epoch 28/50\n",
      "266/266 [==============================] - 1s 2ms/step - loss: 0.2779 - accuracy: 0.8542 - val_loss: 0.2719 - val_accuracy: 0.8589\n",
      "Epoch 29/50\n",
      "266/266 [==============================] - 1s 2ms/step - loss: 0.2740 - accuracy: 0.8629 - val_loss: 0.2786 - val_accuracy: 0.8542\n",
      "Epoch 30/50\n",
      "266/266 [==============================] - 1s 2ms/step - loss: 0.2759 - accuracy: 0.8607 - val_loss: 0.2747 - val_accuracy: 0.8702\n",
      "Epoch 31/50\n",
      "266/266 [==============================] - 1s 2ms/step - loss: 0.2761 - accuracy: 0.8560 - val_loss: 0.2815 - val_accuracy: 0.8467\n",
      "Epoch 32/50\n",
      "266/266 [==============================] - 1s 2ms/step - loss: 0.2746 - accuracy: 0.8574 - val_loss: 0.3037 - val_accuracy: 0.8401\n",
      "Epoch 33/50\n",
      "266/266 [==============================] - 0s 2ms/step - loss: 0.2750 - accuracy: 0.8565 - val_loss: 0.2723 - val_accuracy: 0.8608\n",
      "Epoch 34/50\n",
      "266/266 [==============================] - 0s 2ms/step - loss: 0.2751 - accuracy: 0.8607 - val_loss: 0.2756 - val_accuracy: 0.8514\n",
      "Epoch 35/50\n",
      "266/266 [==============================] - 0s 2ms/step - loss: 0.2748 - accuracy: 0.8546 - val_loss: 0.2858 - val_accuracy: 0.8561\n",
      "Epoch 36/50\n",
      "266/266 [==============================] - 1s 2ms/step - loss: 0.2744 - accuracy: 0.8591 - val_loss: 0.2798 - val_accuracy: 0.8542\n",
      "Epoch 37/50\n",
      "266/266 [==============================] - 1s 2ms/step - loss: 0.2718 - accuracy: 0.8600 - val_loss: 0.2759 - val_accuracy: 0.8551\n",
      "Epoch 38/50\n",
      "266/266 [==============================] - 1s 2ms/step - loss: 0.2707 - accuracy: 0.8624 - val_loss: 0.2811 - val_accuracy: 0.8523\n",
      "Epoch 39/50\n",
      "266/266 [==============================] - 1s 2ms/step - loss: 0.2712 - accuracy: 0.8633 - val_loss: 0.2755 - val_accuracy: 0.8570\n",
      "Epoch 40/50\n",
      "266/266 [==============================] - 1s 2ms/step - loss: 0.2716 - accuracy: 0.8687 - val_loss: 0.2886 - val_accuracy: 0.8514\n",
      "Epoch 41/50\n",
      "266/266 [==============================] - 1s 2ms/step - loss: 0.2709 - accuracy: 0.8614 - val_loss: 0.2711 - val_accuracy: 0.8570\n",
      "Epoch 42/50\n",
      "266/266 [==============================] - 1s 2ms/step - loss: 0.2738 - accuracy: 0.8657 - val_loss: 0.2747 - val_accuracy: 0.8561\n",
      "Epoch 43/50\n",
      "266/266 [==============================] - 1s 2ms/step - loss: 0.2713 - accuracy: 0.8631 - val_loss: 0.2747 - val_accuracy: 0.8645\n",
      "Epoch 44/50\n",
      "266/266 [==============================] - 1s 2ms/step - loss: 0.2695 - accuracy: 0.8603 - val_loss: 0.2707 - val_accuracy: 0.8617\n",
      "Epoch 45/50\n",
      "266/266 [==============================] - 1s 2ms/step - loss: 0.2699 - accuracy: 0.8640 - val_loss: 0.2715 - val_accuracy: 0.8551\n",
      "Epoch 46/50\n",
      "266/266 [==============================] - 1s 2ms/step - loss: 0.2705 - accuracy: 0.8638 - val_loss: 0.2702 - val_accuracy: 0.8702\n",
      "Epoch 47/50\n",
      "266/266 [==============================] - 1s 2ms/step - loss: 0.2695 - accuracy: 0.8645 - val_loss: 0.2751 - val_accuracy: 0.8608\n",
      "Epoch 48/50\n",
      "266/266 [==============================] - 1s 2ms/step - loss: 0.2705 - accuracy: 0.8633 - val_loss: 0.2756 - val_accuracy: 0.8523\n",
      "Epoch 49/50\n",
      "266/266 [==============================] - 1s 2ms/step - loss: 0.2692 - accuracy: 0.8650 - val_loss: 0.2778 - val_accuracy: 0.8692\n",
      "Epoch 50/50\n",
      "266/266 [==============================] - 1s 2ms/step - loss: 0.2689 - accuracy: 0.8659 - val_loss: 0.2792 - val_accuracy: 0.8570\n"
     ]
    },
    {
     "data": {
      "text/plain": [
       "<keras.callbacks.History at 0x2177fafa8e0>"
      ]
     },
     "execution_count": 6,
     "metadata": {},
     "output_type": "execute_result"
    }
   ],
   "source": [
    "# Train the model\n",
    "model.fit(X_train,y_train,batch_size = 16,\n",
    "          epochs=50,\n",
    "          validation_data=(X_test, y_test))"
   ]
  },
  {
   "cell_type": "code",
   "execution_count": 7,
   "metadata": {
    "colab": {
     "base_uri": "https://localhost:8080/"
    },
    "id": "5btNI7CCEPJB",
    "outputId": "c27f9bc7-a44f-4e8b-a0e6-58e08edb2cba"
   },
   "outputs": [
    {
     "name": "stdout",
     "output_type": "stream",
     "text": [
      "133/133 [==============================] - 0s 1ms/step - loss: 0.2710 - accuracy: 0.8579\n"
     ]
    },
    {
     "data": {
      "text/plain": [
       "[0.2710111141204834, 0.8579157590866089]"
      ]
     },
     "execution_count": 7,
     "metadata": {},
     "output_type": "execute_result"
    }
   ],
   "source": [
    "eval_model = model.evaluate(X_train, y_train)\n",
    "eval_model"
   ]
  },
  {
   "cell_type": "code",
   "execution_count": 8,
   "metadata": {
    "colab": {
     "base_uri": "https://localhost:8080/"
    },
    "id": "1qZ4pYW4INZK",
    "outputId": "7d5f67e2-20ab-46ab-ca40-3f3d289e6b92"
   },
   "outputs": [
    {
     "name": "stdout",
     "output_type": "stream",
     "text": [
      "34/34 [==============================] - 0s 1ms/step\n"
     ]
    },
    {
     "data": {
      "text/plain": [
       "array([[9.9918675e-01, 1.1319174e-02, 6.4737373e-12],\n",
       "       [1.0000000e+00, 1.7345632e-05, 1.3139572e-25],\n",
       "       [9.9999988e-01, 1.5663643e-05, 7.8363353e-26],\n",
       "       ...,\n",
       "       [1.0000000e+00, 3.0590861e-08, 0.0000000e+00],\n",
       "       [1.0000000e+00, 8.6334246e-08, 1.0231758e-37],\n",
       "       [9.9999994e-01, 1.3151079e-05, 3.2291670e-26]], dtype=float32)"
      ]
     },
     "execution_count": 8,
     "metadata": {},
     "output_type": "execute_result"
    }
   ],
   "source": [
    "pred= model.predict(X_test)\n",
    "pred"
   ]
  },
  {
   "cell_type": "code",
   "execution_count": 9,
   "metadata": {
    "colab": {
     "base_uri": "https://localhost:8080/"
    },
    "id": "OIQMwtqwIccS",
    "outputId": "17a8ade1-3efb-491b-ecf4-25ce2d4db023"
   },
   "outputs": [
    {
     "data": {
      "text/plain": [
       "0"
      ]
     },
     "execution_count": 9,
     "metadata": {},
     "output_type": "execute_result"
    }
   ],
   "source": [
    "# Get the class labels by finding the index of the highest predicted probability\n",
    "y_pred_labels = np.argmax(pred, axis=1)\n",
    "\n",
    "# Convert the encoded labels back to the original labels\n",
    "y_pred_labels = encoder.inverse_transform(y_pred_labels)\n",
    "\n",
    "# Create a dataframe with the predicted labels\n",
    "predictions_df = pd.DataFrame({'Predicted_NextPurchaseDayRange': y_pred_labels})\n",
    "\n",
    "\n",
    "# predictions_df.tail(50)\n",
    "y_pred_labels[1]"
   ]
  },
  {
   "cell_type": "code",
   "execution_count": 10,
   "metadata": {
    "colab": {
     "base_uri": "https://localhost:8080/"
    },
    "id": "hjjlNsF_j6Al",
    "outputId": "8a4410b2-e107-4b54-dec7-a1f1792d8dd9"
   },
   "outputs": [
    {
     "data": {
      "text/plain": [
       "array([1., 0., 0.], dtype=float32)"
      ]
     },
     "execution_count": 10,
     "metadata": {},
     "output_type": "execute_result"
    }
   ],
   "source": [
    "y_test[1]"
   ]
  },
  {
   "cell_type": "code",
   "execution_count": 11,
   "metadata": {
    "colab": {
     "base_uri": "https://localhost:8080/"
    },
    "id": "nqN65gKIkgm8",
    "outputId": "40d8920b-c99d-47f2-c4e2-6fc53061087b"
   },
   "outputs": [
    {
     "data": {
      "text/plain": [
       "0"
      ]
     },
     "execution_count": 11,
     "metadata": {},
     "output_type": "execute_result"
    }
   ],
   "source": [
    "rounded_labels=np.argmax(y_test, axis=1)\n",
    "rounded_labels[1]\n",
    "# 2"
   ]
  },
  {
   "cell_type": "code",
   "execution_count": 12,
   "metadata": {
    "colab": {
     "base_uri": "https://localhost:8080/",
     "height": 696
    },
    "id": "qWyG_GfBXeDu",
    "outputId": "3c7fd9ab-7aab-41ba-bbb1-0450d55c374b"
   },
   "outputs": [
    {
     "data": {
      "image/png": "[encoded data removed]",
      "text/plain": [
       "<Figure size 720x576 with 2 Axes>"
      ]
     },
     "metadata": {
      "needs_background": "light"
     },
     "output_type": "display_data"
    }
   ],
   "source": [
    "from sklearn import metrics\n",
    "import matplotlib.cm as cm\n",
    "\n",
    "plt.figure(figsize = (10,8))\n",
    "sns.heatmap(metrics.confusion_matrix(rounded_labels, y_pred_labels), annot = True, cmap = cm.gray)\n",
    "plt.xlabel('Predicted Labels')\n",
    "plt.ylabel('True Labels')\n",
    "plt.show()"
   ]
  },
  {
   "cell_type": "code",
   "execution_count": 13,
   "metadata": {
    "colab": {
     "base_uri": "https://localhost:8080/"
    },
    "id": "NvpXbC9BmDgs",
    "outputId": "23dcd929-d041-43c0-de8c-081dfceeaf96"
   },
   "outputs": [
    {
     "name": "stdout",
     "output_type": "stream",
     "text": [
      "              precision    recall  f1-score   support\n",
      "\n",
      "           0       0.97      0.90      0.93       862\n",
      "           1       0.49      0.70      0.57       137\n",
      "           2       0.59      0.64      0.61        64\n",
      "\n",
      "    accuracy                           0.86      1063\n",
      "   macro avg       0.68      0.75      0.71      1063\n",
      "weighted avg       0.89      0.86      0.87      1063\n",
      "\n"
     ]
    }
   ],
   "source": [
    "from sklearn.metrics import classification_report\n",
    "\n",
    "print(classification_report(rounded_labels, y_pred_labels))"
   ]
  },
  {
   "cell_type": "code",
   "execution_count": null,
   "metadata": {
    "id": "lTB-7sLam9XE"
   },
   "outputs": [],
   "source": [
    "from sklearn.metrics import roc_auc_score\n",
    "\n",
    "# Generate class membership probabilities\n",
    "y_preb_probs = clf.predict_proba(X_test)\n",
    "roc_auc_score(y_test, y_preb_probs, average=\"weighted\", multi_class=\"ovr\")"
   ]
  },
  {
   "cell_type": "code",
   "execution_count": null,
   "metadata": {
    "colab": {
     "base_uri": "https://localhost:8080/"
    },
    "id": "WciZr2DkKIBz",
    "outputId": "e9cb51ca-e62b-4df2-e74f-8561fcb81433"
   },
   "outputs": [
    {
     "data": {
      "text/plain": [
       "array([0, 1, 2, 4])"
      ]
     },
     "execution_count": 17,
     "metadata": {},
     "output_type": "execute_result"
    }
   ],
   "source": [
    "predictions_df['Predicted_NextPurchaseDayRange'].unique()"
   ]
  },
  {
   "cell_type": "code",
   "execution_count": null,
   "metadata": {
    "colab": {
     "base_uri": "https://localhost:8080/"
    },
    "id": "T1EKAvB-LPNR",
    "outputId": "f7a5a2ae-3091-4c35-c98f-3c167fd5c34b"
   },
   "outputs": [
    {
     "data": {
      "text/plain": [
       "['txnDayPredictionModel.sav']"
      ]
     },
     "execution_count": 16,
     "metadata": {},
     "output_type": "execute_result"
    }
   ],
   "source": [
    "import joblib\n",
    "joblib.dump(model,'txnDayPredictionModel.sav')"
   ]
  },
  {
   "cell_type": "code",
   "execution_count": null,
   "metadata": {
    "id": "9_q-Ar78LVLL"
   },
   "outputs": [],
   "source": [
    "df_pred = pd.DataFrame({'Predicted_NextPurchaseDayRange': y_pred_labels})\n",
    "for i, col in enumerate(ctm_class.columns[:-1]):\n",
    "  df_pred[col] = X_test[:,i]"
   ]
  },
  {
   "cell_type": "code",
   "execution_count": null,
   "metadata": {
    "colab": {
     "base_uri": "https://localhost:8080/",
     "height": 206
    },
    "id": "MWRk4iDZOKqs",
    "outputId": "bb989c15-3f5f-4e05-d019-b20bce10e048"
   },
   "outputs": [
    {
     "data": {
      "text/html": [
       "\n",
       "  <div id=\"df-0265aed1-933a-4ddb-9a76-a23acc7303dc\">\n",
       "    <div class=\"colab-df-container\">\n",
       "      <div>\n",
       "<style scoped>\n",
       "    .dataframe tbody tr th:only-of-type {\n",
       "        vertical-align: middle;\n",
       "    }\n",
       "\n",
       "    .dataframe tbody tr th {\n",
       "        vertical-align: top;\n",
       "    }\n",
       "\n",
       "    .dataframe thead th {\n",
       "        text-align: right;\n",
       "    }\n",
       "</style>\n",
       "<table border=\"1\" class=\"dataframe\">\n",
       "  <thead>\n",
       "    <tr style=\"text-align: right;\">\n",
       "      <th></th>\n",
       "      <th>Predicted_NextPurchaseDayRange</th>\n",
       "      <th>Recency</th>\n",
       "      <th>RecencyCluster</th>\n",
       "      <th>Frequency</th>\n",
       "      <th>FrequencyCluster</th>\n",
       "      <th>Revenue</th>\n",
       "      <th>RevenueCluster</th>\n",
       "      <th>OverallScore</th>\n",
       "      <th>Segment_High-Value</th>\n",
       "      <th>Segment_Low-Value</th>\n",
       "      <th>Segment_Mid-Value</th>\n",
       "    </tr>\n",
       "  </thead>\n",
       "  <tbody>\n",
       "    <tr>\n",
       "      <th>0</th>\n",
       "      <td>0</td>\n",
       "      <td>0.277429</td>\n",
       "      <td>0.666667</td>\n",
       "      <td>0.001222</td>\n",
       "      <td>1.0</td>\n",
       "      <td>0.040547</td>\n",
       "      <td>0.0</td>\n",
       "      <td>0.4</td>\n",
       "      <td>0.0</td>\n",
       "      <td>0.0</td>\n",
       "      <td>1.0</td>\n",
       "    </tr>\n",
       "    <tr>\n",
       "      <th>1</th>\n",
       "      <td>0</td>\n",
       "      <td>0.568966</td>\n",
       "      <td>0.333333</td>\n",
       "      <td>0.002138</td>\n",
       "      <td>1.0</td>\n",
       "      <td>0.042994</td>\n",
       "      <td>0.0</td>\n",
       "      <td>0.2</td>\n",
       "      <td>0.0</td>\n",
       "      <td>1.0</td>\n",
       "      <td>0.0</td>\n",
       "    </tr>\n",
       "    <tr>\n",
       "      <th>2</th>\n",
       "      <td>0</td>\n",
       "      <td>0.539185</td>\n",
       "      <td>0.333333</td>\n",
       "      <td>0.001145</td>\n",
       "      <td>1.0</td>\n",
       "      <td>0.040286</td>\n",
       "      <td>0.0</td>\n",
       "      <td>0.2</td>\n",
       "      <td>0.0</td>\n",
       "      <td>1.0</td>\n",
       "      <td>0.0</td>\n",
       "    </tr>\n",
       "    <tr>\n",
       "      <th>3</th>\n",
       "      <td>0</td>\n",
       "      <td>0.333856</td>\n",
       "      <td>0.666667</td>\n",
       "      <td>0.010003</td>\n",
       "      <td>1.0</td>\n",
       "      <td>0.042058</td>\n",
       "      <td>0.0</td>\n",
       "      <td>0.4</td>\n",
       "      <td>0.0</td>\n",
       "      <td>0.0</td>\n",
       "      <td>1.0</td>\n",
       "    </tr>\n",
       "    <tr>\n",
       "      <th>4</th>\n",
       "      <td>0</td>\n",
       "      <td>0.485893</td>\n",
       "      <td>0.333333</td>\n",
       "      <td>0.000764</td>\n",
       "      <td>1.0</td>\n",
       "      <td>0.040649</td>\n",
       "      <td>0.0</td>\n",
       "      <td>0.2</td>\n",
       "      <td>0.0</td>\n",
       "      <td>1.0</td>\n",
       "      <td>0.0</td>\n",
       "    </tr>\n",
       "  </tbody>\n",
       "</table>\n",
       "</div>\n",
       "      <button class=\"colab-df-convert\" onclick=\"convertToInteractive('df-0265aed1-933a-4ddb-9a76-a23acc7303dc')\"\n",
       "              title=\"Convert this dataframe to an interactive table.\"\n",
       "              style=\"display:none;\">\n",
       "        \n",
       "  <svg xmlns=\"http://www.w3.org/2000/svg\" height=\"24px\"viewBox=\"0 0 24 24\"\n",
       "       width=\"24px\">\n",
       "    <path d=\"M0 0h24v24H0V0z\" fill=\"none\"/>\n",
       "    <path d=\"M18.56 5.44l.94 2.06.94-2.06 2.06-.94-2.06-.94-.94-2.06-.94 2.06-2.06.94zm-11 1L8.5 8.5l.94-2.06 2.06-.94-2.06-.94L8.5 2.5l-.94 2.06-2.06.94zm10 10l.94 2.06.94-2.06 2.06-.94-2.06-.94-.94-2.06-.94 2.06-2.06.94z\"/><path d=\"M17.41 7.96l-1.37-1.37c-.4-.4-.92-.59-1.43-.59-.52 0-1.04.2-1.43.59L10.3 9.45l-7.72 7.72c-.78.78-.78 2.05 0 2.83L4 21.41c.39.39.9.59 1.41.59.51 0 1.02-.2 1.41-.59l7.78-7.78 2.81-2.81c.8-.78.8-2.07 0-2.86zM5.41 20L4 18.59l7.72-7.72 1.47 1.35L5.41 20z\"/>\n",
       "  </svg>\n",
       "      </button>\n",
       "      \n",
       "  <style>\n",
       "    .colab-df-container {\n",
       "      display:flex;\n",
       "      flex-wrap:wrap;\n",
       "      gap: 12px;\n",
       "    }\n",
       "\n",
       "    .colab-df-convert {\n",
       "      background-color: #E8F0FE;\n",
       "      border: none;\n",
       "      border-radius: 50%;\n",
       "      cursor: pointer;\n",
       "      display: none;\n",
       "      fill: #1967D2;\n",
       "      height: 32px;\n",
       "      padding: 0 0 0 0;\n",
       "      width: 32px;\n",
       "    }\n",
       "\n",
       "    .colab-df-convert:hover {\n",
       "      background-color: #E2EBFA;\n",
       "      box-shadow: 0px 1px 2px rgba(60, 64, 67, 0.3), 0px 1px 3px 1px rgba(60, 64, 67, 0.15);\n",
       "      fill: #174EA6;\n",
       "    }\n",
       "\n",
       "    [theme=dark] .colab-df-convert {\n",
       "      background-color: #3B4455;\n",
       "      fill: #D2E3FC;\n",
       "    }\n",
       "\n",
       "    [theme=dark] .colab-df-convert:hover {\n",
       "      background-color: #434B5C;\n",
       "      box-shadow: 0px 1px 3px 1px rgba(0, 0, 0, 0.15);\n",
       "      filter: drop-shadow(0px 1px 2px rgba(0, 0, 0, 0.3));\n",
       "      fill: #FFFFFF;\n",
       "    }\n",
       "  </style>\n",
       "\n",
       "      <script>\n",
       "        const buttonEl =\n",
       "          document.querySelector('#df-0265aed1-933a-4ddb-9a76-a23acc7303dc button.colab-df-convert');\n",
       "        buttonEl.style.display =\n",
       "          google.colab.kernel.accessAllowed ? 'block' : 'none';\n",
       "\n",
       "        async function convertToInteractive(key) {\n",
       "          const element = document.querySelector('#df-0265aed1-933a-4ddb-9a76-a23acc7303dc');\n",
       "          const dataTable =\n",
       "            await google.colab.kernel.invokeFunction('convertToInteractive',\n",
       "                                                     [key], {});\n",
       "          if (!dataTable) return;\n",
       "\n",
       "          const docLinkHtml = 'Like what you see? Visit the ' +\n",
       "            '<a target=\"_blank\" href=https://colab.research.google.com/notebooks/data_table.ipynb>data table notebook</a>'\n",
       "            + ' to learn more about interactive tables.';\n",
       "          element.innerHTML = '';\n",
       "          dataTable['output_type'] = 'display_data';\n",
       "          await google.colab.output.renderOutput(dataTable, element);\n",
       "          const docLink = document.createElement('div');\n",
       "          docLink.innerHTML = docLinkHtml;\n",
       "          element.appendChild(docLink);\n",
       "        }\n",
       "      </script>\n",
       "    </div>\n",
       "  </div>\n",
       "  "
      ],
      "text/plain": [
       "   Predicted_NextPurchaseDayRange   Recency  RecencyCluster  Frequency  \\\n",
       "0                               0  0.277429        0.666667   0.001222   \n",
       "1                               0  0.568966        0.333333   0.002138   \n",
       "2                               0  0.539185        0.333333   0.001145   \n",
       "3                               0  0.333856        0.666667   0.010003   \n",
       "4                               0  0.485893        0.333333   0.000764   \n",
       "\n",
       "   FrequencyCluster   Revenue  RevenueCluster  OverallScore  \\\n",
       "0               1.0  0.040547             0.0           0.4   \n",
       "1               1.0  0.042994             0.0           0.2   \n",
       "2               1.0  0.040286             0.0           0.2   \n",
       "3               1.0  0.042058             0.0           0.4   \n",
       "4               1.0  0.040649             0.0           0.2   \n",
       "\n",
       "   Segment_High-Value  Segment_Low-Value  Segment_Mid-Value  \n",
       "0                 0.0                0.0                1.0  \n",
       "1                 0.0                1.0                0.0  \n",
       "2                 0.0                1.0                0.0  \n",
       "3                 0.0                0.0                1.0  \n",
       "4                 0.0                1.0                0.0  "
      ]
     },
     "execution_count": 22,
     "metadata": {},
     "output_type": "execute_result"
    }
   ],
   "source": [
    "df_pred.head()"
   ]
  }
 ],
 "metadata": {
  "accelerator": "GPU",
  "colab": {
   "provenance": []
  },
  "gpuClass": "standard",
  "kernelspec": {
   "display_name": "Python 3 (ipykernel)",
   "language": "python",
   "name": "python3"
  },
  "language_info": {
   "codemirror_mode": {
    "name": "ipython",
    "version": 3
   },
   "file_extension": ".py",
   "mimetype": "text/x-python",
   "name": "python",
   "nbconvert_exporter": "python",
   "pygments_lexer": "ipython3",
   "version": "3.9.7"
  }
 },
 "nbformat": 4,
 "nbformat_minor": 1
}
