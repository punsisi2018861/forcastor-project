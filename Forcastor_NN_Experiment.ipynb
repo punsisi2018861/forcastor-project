{
  "nbformat": 4,
  "nbformat_minor": 0,
  "metadata": {
    "colab": {
      "provenance": [],
      "authorship_tag": "ABX9TyNgSk5kw9sXqJkLZ9BpUK5J",
      "include_colab_link": true
    },
    "kernelspec": {
      "name": "python3",
      "display_name": "Python 3"
    },
    "language_info": {
      "name": "python"
    },
    "accelerator": "GPU",
    "gpuClass": "standard"
  },
  "cells": [
    {
      "cell_type": "markdown",
      "metadata": {
        "id": "view-in-github",
        "colab_type": "text"
      },
      "source": [
        "<a href=\"https://colab.research.google.com/github/punsisi2018861/forcastor-project/blob/main/Forcastor_NN_Experiment.ipynb\" target=\"_parent\"><img src=\"https://colab.research.google.com/assets/colab-badge.svg\" alt=\"Open In Colab\"/></a>"
      ]
    },
    {
      "cell_type": "code",
      "execution_count": null,
      "metadata": {
        "id": "PfxfRg-h6Nea",
        "colab": {
          "base_uri": "https://localhost:8080/"
        },
        "outputId": "a96bcd12-8bde-4dfa-ed20-03ca1c9cebfe"
      },
      "outputs": [
        {
          "output_type": "stream",
          "name": "stdout",
          "text": [
            "Mounted at /content/drive\n"
          ]
        }
      ],
      "source": [
        "from google.colab import drive\n",
        "drive.mount('/content/drive')"
      ]
    },
    {
      "cell_type": "code",
      "source": [
        "# importing necessary Python libraries\n",
        "import pandas as pd \n",
        "import numpy as np\n",
        "import matplotlib.pyplot as plt\n",
        "import seaborn as sns\n",
        "\n",
        "import plotly.express as px\n",
        "#import plotly.offline as pyoff\n",
        "import plotly.graph_objs as go \n",
        "#import plotly.figure_factory as ff\n",
        "\n",
        "# avoid displaying warnings\n",
        "import warnings\n",
        "warnings.filterwarnings(\"ignore\")\n",
        "\n",
        "#import machine learning related libraries\n",
        "from sklearn.svm import SVC\n",
        "from sklearn.multioutput import MultiOutputClassifier\n",
        "from sklearn.ensemble import GradientBoostingClassifier\n",
        "from sklearn.tree import DecisionTreeClassifier\n",
        "from sklearn.neighbors import KNeighborsClassifier\n",
        "from sklearn.naive_bayes import GaussianNB\n",
        "from sklearn.ensemble import RandomForestClassifier\n",
        "from sklearn.linear_model import LogisticRegression\n",
        "from sklearn.model_selection import KFold, cross_val_score, train_test_split, GridSearchCV, cross_validate\n",
        "from sklearn.metrics import accuracy_score, f1_score, precision_score, recall_score, confusion_matrix\n",
        "from sklearn.cluster import KMeans\n",
        "import xgboost as xgb\n",
        "import time\n",
        "\n",
        "from sklearn.preprocessing import MinMaxScaler\n",
        "\n",
        "# Loading the data\n",
        "df = pd.read_csv('/content/drive/My Drive/Forcasta/online_retail_II.csv')\n",
        "\n",
        "# Rename the following columns: \n",
        "#    Invoice to InvoiceNo\n",
        "#    Customer ID to CustomerID\n",
        "#    Price to UnitPrice\n",
        "\n",
        "df.rename(columns={'Invoice':'InvoiceNo', 'Customer ID':'CustomerID', 'Price':'UnitPrice'}, inplace=True)\n",
        "\n",
        "df_data = df.dropna()\n",
        "df_data.InvoiceDate = pd.to_datetime(df_data.InvoiceDate)\n",
        "df_data['InvoiceYearMonth'] = df_data['InvoiceDate'].map(lambda date: 100*date.year + date.month)\n",
        "df_data['Revenue'] = df_data.UnitPrice * df_data.Quantity\n",
        "ctm_revenue = df_data.groupby('InvoiceYearMonth').Revenue.sum().reset_index()\n",
        "\n",
        "ctm_bhvr_dt = df_data[(df_data.InvoiceDate < pd.Timestamp(2011,9,1)) & \n",
        "      (df_data.InvoiceDate >= pd.Timestamp(2009,12,1))].reset_index(drop=True)\n",
        "\n",
        "\n",
        "ctm_next_quarter = df_data[(df_data.InvoiceDate < pd.Timestamp(2011,12,1)) & \n",
        "      (df_data.InvoiceDate >= pd.Timestamp(2011,9,1))].reset_index(drop=True)\n",
        "\n",
        "# Get the distinct customers in the dataframe ctm_bhvr_dt\n",
        "ctm_dt = pd.DataFrame(ctm_bhvr_dt['CustomerID'].unique())\n",
        "\n",
        "# Rename the column to CustomerID.\n",
        "ctm_dt.columns = ['CustomerID']\n",
        "\n",
        "# Create a dataframe with CustomerID and customers first purchase \n",
        "# date in ctm_next_quarter\n",
        "ctm_1st_purchase_in_next_quarter = ctm_next_quarter.groupby('CustomerID').InvoiceDate.min().reset_index()\n",
        "ctm_1st_purchase_in_next_quarter.columns = ['CustomerID','MinPurchaseDate']\n",
        "\n",
        "ctm_last_purchase_bhvr_dt = ctm_bhvr_dt.groupby('CustomerID').InvoiceDate.max().reset_index()\n",
        "ctm_last_purchase_bhvr_dt.columns = ['CustomerID','MaxPurchaseDate']\n",
        "\n",
        "# Merge two dataframes ctm_last_purchase_bhvr_dt and ctm_1st_purchase_in_next_quarter\n",
        "ctm_purchase_dates = pd.merge(ctm_last_purchase_bhvr_dt, ctm_1st_purchase_in_next_quarter, on='CustomerID', \n",
        "                              how='left')\n",
        "\n",
        "ctm_purchase_dates['NextPurchaseDay'] = (ctm_purchase_dates['MinPurchaseDate'] - ctm_purchase_dates['MaxPurchaseDate']).dt.days\n",
        "\n",
        "# merge with ctm_dt \n",
        "ctm_dt = pd.merge(ctm_dt, ctm_purchase_dates[['CustomerID','NextPurchaseDay']], on='CustomerID', how='left')\n",
        "\n",
        "ctm_dt = ctm_dt.fillna(9999)\n",
        "\n",
        "ctm_max_purchase = ctm_bhvr_dt.groupby('CustomerID').InvoiceDate.max().reset_index()\n",
        "ctm_max_purchase.columns = ['CustomerID','MaxPurchaseDate']\n",
        "\n",
        "# Find the recency in days \n",
        "ctm_max_purchase['Recency'] = (ctm_max_purchase['MaxPurchaseDate'].max() - ctm_max_purchase['MaxPurchaseDate']).dt.days\n",
        "\n",
        "# Merge the dataframes ctm_dt and ctm_max_purchase[['CustomerID', 'Recency']] on the CustomerID column.\n",
        "ctm_dt = pd.merge(ctm_dt, ctm_max_purchase[['CustomerID', 'Recency']], on='CustomerID')\n",
        "\n",
        "number_of_clusters = 4\n",
        "\n",
        "kmeans = KMeans(n_clusters=number_of_clusters)\n",
        "kmeans.fit(ctm_dt[['Recency']])\n",
        "ctm_dt['RecencyCluster'] = kmeans.predict(ctm_dt[['Recency']])\n",
        "\n",
        "def order_cluster(df, target_field_name, cluster_field_name, ascending):\n",
        "    \"\"\"\n",
        "    INPUT:\n",
        "        - df                  - pandas DataFrame\n",
        "        - target_field_name   - str - A column in the pandas DataFrame df\n",
        "        - cluster_field_name  - str - Expected to be a column in the pandas DataFrame df\n",
        "        - ascending           - Boolean\n",
        "        \n",
        "    OUTPUT:\n",
        "        - df_final            - pandas DataFrame with target_field_name and cluster_field_name as columns\n",
        "    \n",
        "    \"\"\"\n",
        "    # Add the string \"new_\" to cluster_field_name\n",
        "    new_cluster_field_name = \"new_\" + cluster_field_name\n",
        "    \n",
        "    # Create a new dataframe by grouping the input dataframe by cluster_field_name and extract target_field_name \n",
        "    # and find the mean\n",
        "    df_new = df.groupby(cluster_field_name)[target_field_name].mean().reset_index()\n",
        "    \n",
        "    # Sort the new dataframe df_new, by target_field_name in descending order\n",
        "    df_new = df_new.sort_values(by=target_field_name, ascending=ascending).reset_index(drop=True)\n",
        "    \n",
        "    # Create a new column in df_new with column name index and assign it values to df_new.index\n",
        "    df_new[\"index\"] = df_new.index\n",
        "    \n",
        "    # Create a new dataframe by merging input dataframe df and part of the columns of df_new based on \n",
        "    # cluster_field_name\n",
        "    df_final = pd.merge(df, df_new[[cluster_field_name, \"index\"]], on=cluster_field_name)\n",
        "    \n",
        "    # Update the dataframe df_final by deleting the column cluster_field_name\n",
        "    df_final = df_final.drop([cluster_field_name], axis=1)\n",
        "    \n",
        "    # Rename the column index to cluster_field_name\n",
        "    df_final = df_final.rename(columns={\"index\": cluster_field_name})\n",
        "    \n",
        "    return df_final\n",
        "\n",
        "ctm_dt = order_cluster(ctm_dt, 'Recency', 'RecencyCluster', False)\n",
        "\n",
        "#get order counts for each user and create a dataframe with it\n",
        "ctm_frequency = df_data.groupby('CustomerID').InvoiceDate.count().reset_index()\n",
        "ctm_frequency.columns = ['CustomerID','Frequency']\n",
        "\n",
        "#add this data to our main ctm_dt\n",
        "ctm_dt = pd.merge(ctm_dt, ctm_frequency, on='CustomerID')\n",
        "\n",
        "kmeans = KMeans(n_clusters=number_of_clusters)\n",
        "kmeans.fit(ctm_dt[['Frequency']])\n",
        "ctm_dt['FrequencyCluster'] = kmeans.predict(ctm_dt[['Frequency']])\n",
        "\n",
        "ctm_dt = order_cluster(ctm_dt, 'Frequency', 'FrequencyCluster', False)\n",
        "\n",
        "ctm_revenue = df_data.groupby('CustomerID').Revenue.sum().reset_index()\n",
        "\n",
        "#merge it with our ctm_dt\n",
        "ctm_dt = pd.merge(ctm_dt, ctm_revenue, on='CustomerID')\n",
        "\n",
        "#apply clustering\n",
        "kmeans = KMeans(n_clusters=number_of_clusters)\n",
        "kmeans.fit(ctm_dt[['Revenue']])\n",
        "ctm_dt['RevenueCluster'] = kmeans.predict(ctm_dt[['Revenue']])\n",
        "\n",
        "#order the cluster numbers\n",
        "ctm_dt = order_cluster(ctm_dt, 'Revenue', 'RevenueCluster', True)\n",
        "\n",
        "#calculate overall score and use mean() to see details\n",
        "ctm_dt['OverallScore'] = ctm_dt['RecencyCluster'] + ctm_dt['FrequencyCluster'] + ctm_dt['RevenueCluster']\n",
        "ctm_dt.groupby('OverallScore')['Recency','Frequency','Revenue'].mean()\n",
        "\n",
        "ctm_dt['Segment'] = 'Low-Value'\n",
        "ctm_dt.loc[ctm_dt['OverallScore'] > 4, 'Segment'] = 'Mid-Value'\n",
        "ctm_dt.loc[ctm_dt['OverallScore'] > 6, 'Segment'] = 'High-Value'\n",
        "\n",
        "#create ctm_class as a copy of ctm_dt before applying get_dummies\n",
        "ctm_class = ctm_dt.copy()\n",
        "ctm_class = pd.get_dummies(ctm_class)\n",
        "ctm_class.head()\n",
        "\n",
        "ctm_class['NextPurchaseDayRange'] = 4  ## first week\n",
        "ctm_class.loc[ctm_class.NextPurchaseDay>7,'NextPurchaseDayRange'] = 3 # second week\n",
        "ctm_class.loc[ctm_class.NextPurchaseDay>14,'NextPurchaseDayRange'] = 2 # 3rd week\n",
        "ctm_class.loc[ctm_class.NextPurchaseDay>30,'NextPurchaseDayRange'] = 1 # 4th week\n",
        "ctm_class.loc[ctm_class.NextPurchaseDay>90,'NextPurchaseDayRange'] = 0 # more than 3 months\n",
        "\n",
        "# corr_matrix = ctm_class[ctm_class.columns].corr()\n",
        "# corr_df = pd.DataFrame(corr_matrix.min())\n",
        "# corr_df.columns = ['MinCorrelationCoeff']\n",
        "# corr_df['MaxCorrelationCoeff'] = corr_matrix[corr_matrix < 1].max()\n",
        "\n",
        "ctm_class.head()\n",
        "\n",
        "\n"
      ],
      "metadata": {
        "id": "JQ89PYTCLNa3",
        "colab": {
          "base_uri": "https://localhost:8080/",
          "height": 287
        },
        "outputId": "c0f3715f-884a-4e57-a9fd-61b816910450"
      },
      "execution_count": null,
      "outputs": [
        {
          "output_type": "execute_result",
          "data": {
            "text/plain": [
              "   CustomerID  NextPurchaseDay  Recency  RecencyCluster  Frequency  \\\n",
              "0     13085.0           9999.0       57               3         92   \n",
              "1     18087.0             46.0       44               3         95   \n",
              "2     17519.0            116.0       33               3        224   \n",
              "3     12362.0             40.0       12               3        275   \n",
              "4     15712.0             38.0        9               3        167   \n",
              "\n",
              "   FrequencyCluster   Revenue  RevenueCluster  OverallScore  \\\n",
              "0                 3   1459.46               0             6   \n",
              "1                 3  14411.62               0             6   \n",
              "2                 3   5102.80               0             6   \n",
              "3                 3   5284.58               0             6   \n",
              "4                 3   3467.46               0             6   \n",
              "\n",
              "   Segment_High-Value  Segment_Low-Value  Segment_Mid-Value  \\\n",
              "0                   0                  0                  1   \n",
              "1                   0                  0                  1   \n",
              "2                   0                  0                  1   \n",
              "3                   0                  0                  1   \n",
              "4                   0                  0                  1   \n",
              "\n",
              "   NextPurchaseDayRange  \n",
              "0                     0  \n",
              "1                     1  \n",
              "2                     0  \n",
              "3                     1  \n",
              "4                     1  "
            ],
            "text/html": [
              "\n",
              "  <div id=\"df-8b53667c-8f94-4476-b39c-8291d13fa22a\">\n",
              "    <div class=\"colab-df-container\">\n",
              "      <div>\n",
              "<style scoped>\n",
              "    .dataframe tbody tr th:only-of-type {\n",
              "        vertical-align: middle;\n",
              "    }\n",
              "\n",
              "    .dataframe tbody tr th {\n",
              "        vertical-align: top;\n",
              "    }\n",
              "\n",
              "    .dataframe thead th {\n",
              "        text-align: right;\n",
              "    }\n",
              "</style>\n",
              "<table border=\"1\" class=\"dataframe\">\n",
              "  <thead>\n",
              "    <tr style=\"text-align: right;\">\n",
              "      <th></th>\n",
              "      <th>CustomerID</th>\n",
              "      <th>NextPurchaseDay</th>\n",
              "      <th>Recency</th>\n",
              "      <th>RecencyCluster</th>\n",
              "      <th>Frequency</th>\n",
              "      <th>FrequencyCluster</th>\n",
              "      <th>Revenue</th>\n",
              "      <th>RevenueCluster</th>\n",
              "      <th>OverallScore</th>\n",
              "      <th>Segment_High-Value</th>\n",
              "      <th>Segment_Low-Value</th>\n",
              "      <th>Segment_Mid-Value</th>\n",
              "      <th>NextPurchaseDayRange</th>\n",
              "    </tr>\n",
              "  </thead>\n",
              "  <tbody>\n",
              "    <tr>\n",
              "      <th>0</th>\n",
              "      <td>13085.0</td>\n",
              "      <td>9999.0</td>\n",
              "      <td>57</td>\n",
              "      <td>3</td>\n",
              "      <td>92</td>\n",
              "      <td>3</td>\n",
              "      <td>1459.46</td>\n",
              "      <td>0</td>\n",
              "      <td>6</td>\n",
              "      <td>0</td>\n",
              "      <td>0</td>\n",
              "      <td>1</td>\n",
              "      <td>0</td>\n",
              "    </tr>\n",
              "    <tr>\n",
              "      <th>1</th>\n",
              "      <td>18087.0</td>\n",
              "      <td>46.0</td>\n",
              "      <td>44</td>\n",
              "      <td>3</td>\n",
              "      <td>95</td>\n",
              "      <td>3</td>\n",
              "      <td>14411.62</td>\n",
              "      <td>0</td>\n",
              "      <td>6</td>\n",
              "      <td>0</td>\n",
              "      <td>0</td>\n",
              "      <td>1</td>\n",
              "      <td>1</td>\n",
              "    </tr>\n",
              "    <tr>\n",
              "      <th>2</th>\n",
              "      <td>17519.0</td>\n",
              "      <td>116.0</td>\n",
              "      <td>33</td>\n",
              "      <td>3</td>\n",
              "      <td>224</td>\n",
              "      <td>3</td>\n",
              "      <td>5102.80</td>\n",
              "      <td>0</td>\n",
              "      <td>6</td>\n",
              "      <td>0</td>\n",
              "      <td>0</td>\n",
              "      <td>1</td>\n",
              "      <td>0</td>\n",
              "    </tr>\n",
              "    <tr>\n",
              "      <th>3</th>\n",
              "      <td>12362.0</td>\n",
              "      <td>40.0</td>\n",
              "      <td>12</td>\n",
              "      <td>3</td>\n",
              "      <td>275</td>\n",
              "      <td>3</td>\n",
              "      <td>5284.58</td>\n",
              "      <td>0</td>\n",
              "      <td>6</td>\n",
              "      <td>0</td>\n",
              "      <td>0</td>\n",
              "      <td>1</td>\n",
              "      <td>1</td>\n",
              "    </tr>\n",
              "    <tr>\n",
              "      <th>4</th>\n",
              "      <td>15712.0</td>\n",
              "      <td>38.0</td>\n",
              "      <td>9</td>\n",
              "      <td>3</td>\n",
              "      <td>167</td>\n",
              "      <td>3</td>\n",
              "      <td>3467.46</td>\n",
              "      <td>0</td>\n",
              "      <td>6</td>\n",
              "      <td>0</td>\n",
              "      <td>0</td>\n",
              "      <td>1</td>\n",
              "      <td>1</td>\n",
              "    </tr>\n",
              "  </tbody>\n",
              "</table>\n",
              "</div>\n",
              "      <button class=\"colab-df-convert\" onclick=\"convertToInteractive('df-8b53667c-8f94-4476-b39c-8291d13fa22a')\"\n",
              "              title=\"Convert this dataframe to an interactive table.\"\n",
              "              style=\"display:none;\">\n",
              "        \n",
              "  <svg xmlns=\"http://www.w3.org/2000/svg\" height=\"24px\"viewBox=\"0 0 24 24\"\n",
              "       width=\"24px\">\n",
              "    <path d=\"M0 0h24v24H0V0z\" fill=\"none\"/>\n",
              "    <path d=\"M18.56 5.44l.94 2.06.94-2.06 2.06-.94-2.06-.94-.94-2.06-.94 2.06-2.06.94zm-11 1L8.5 8.5l.94-2.06 2.06-.94-2.06-.94L8.5 2.5l-.94 2.06-2.06.94zm10 10l.94 2.06.94-2.06 2.06-.94-2.06-.94-.94-2.06-.94 2.06-2.06.94z\"/><path d=\"M17.41 7.96l-1.37-1.37c-.4-.4-.92-.59-1.43-.59-.52 0-1.04.2-1.43.59L10.3 9.45l-7.72 7.72c-.78.78-.78 2.05 0 2.83L4 21.41c.39.39.9.59 1.41.59.51 0 1.02-.2 1.41-.59l7.78-7.78 2.81-2.81c.8-.78.8-2.07 0-2.86zM5.41 20L4 18.59l7.72-7.72 1.47 1.35L5.41 20z\"/>\n",
              "  </svg>\n",
              "      </button>\n",
              "      \n",
              "  <style>\n",
              "    .colab-df-container {\n",
              "      display:flex;\n",
              "      flex-wrap:wrap;\n",
              "      gap: 12px;\n",
              "    }\n",
              "\n",
              "    .colab-df-convert {\n",
              "      background-color: #E8F0FE;\n",
              "      border: none;\n",
              "      border-radius: 50%;\n",
              "      cursor: pointer;\n",
              "      display: none;\n",
              "      fill: #1967D2;\n",
              "      height: 32px;\n",
              "      padding: 0 0 0 0;\n",
              "      width: 32px;\n",
              "    }\n",
              "\n",
              "    .colab-df-convert:hover {\n",
              "      background-color: #E2EBFA;\n",
              "      box-shadow: 0px 1px 2px rgba(60, 64, 67, 0.3), 0px 1px 3px 1px rgba(60, 64, 67, 0.15);\n",
              "      fill: #174EA6;\n",
              "    }\n",
              "\n",
              "    [theme=dark] .colab-df-convert {\n",
              "      background-color: #3B4455;\n",
              "      fill: #D2E3FC;\n",
              "    }\n",
              "\n",
              "    [theme=dark] .colab-df-convert:hover {\n",
              "      background-color: #434B5C;\n",
              "      box-shadow: 0px 1px 3px 1px rgba(0, 0, 0, 0.15);\n",
              "      filter: drop-shadow(0px 1px 2px rgba(0, 0, 0, 0.3));\n",
              "      fill: #FFFFFF;\n",
              "    }\n",
              "  </style>\n",
              "\n",
              "      <script>\n",
              "        const buttonEl =\n",
              "          document.querySelector('#df-8b53667c-8f94-4476-b39c-8291d13fa22a button.colab-df-convert');\n",
              "        buttonEl.style.display =\n",
              "          google.colab.kernel.accessAllowed ? 'block' : 'none';\n",
              "\n",
              "        async function convertToInteractive(key) {\n",
              "          const element = document.querySelector('#df-8b53667c-8f94-4476-b39c-8291d13fa22a');\n",
              "          const dataTable =\n",
              "            await google.colab.kernel.invokeFunction('convertToInteractive',\n",
              "                                                     [key], {});\n",
              "          if (!dataTable) return;\n",
              "\n",
              "          const docLinkHtml = 'Like what you see? Visit the ' +\n",
              "            '<a target=\"_blank\" href=https://colab.research.google.com/notebooks/data_table.ipynb>data table notebook</a>'\n",
              "            + ' to learn more about interactive tables.';\n",
              "          element.innerHTML = '';\n",
              "          dataTable['output_type'] = 'display_data';\n",
              "          await google.colab.output.renderOutput(dataTable, element);\n",
              "          const docLink = document.createElement('div');\n",
              "          docLink.innerHTML = docLinkHtml;\n",
              "          element.appendChild(docLink);\n",
              "        }\n",
              "      </script>\n",
              "    </div>\n",
              "  </div>\n",
              "  "
            ]
          },
          "metadata": {},
          "execution_count": 2
        }
      ]
    },
    {
      "cell_type": "code",
      "source": [
        "from keras.utils import to_categorical\n",
        "from sklearn.preprocessing import LabelEncoder\n",
        "ctm_class = ctm_class.drop('NextPurchaseDay', axis=1)\n",
        "ctm_class = ctm_class.drop('CustomerID', axis=1)\n",
        "X, y = ctm_class.drop('NextPurchaseDayRange',axis=1), ctm_class.NextPurchaseDayRange\n",
        "# y = to_categorical(y)\n",
        "\n",
        "# encode class values as integers\n",
        "encoder = LabelEncoder()\n",
        "encoder.fit(y)\n",
        "y = encoder.transform(y)\n",
        "\n",
        "# convert integers to dummy variables (i.e. one hot encoded)\n",
        "y = to_categorical(y)\n",
        "\n",
        "sc = MinMaxScaler(feature_range=(0, 1))\n",
        "X = sc.fit_transform(X)\n",
        "\n",
        "X_train, X_test, y_train, y_test = train_test_split(X, y, test_size=0.2, random_state=44)"
      ],
      "metadata": {
        "id": "0Z-AAl0FJJ2P"
      },
      "execution_count": null,
      "outputs": []
    },
    {
      "cell_type": "code",
      "source": [
        "import keras.backend as K\n",
        "K.clear_session()"
      ],
      "metadata": {
        "id": "pRByQwX-JNXT"
      },
      "execution_count": null,
      "outputs": []
    },
    {
      "cell_type": "code",
      "source": [
        "from keras.models import Sequential\n",
        "from keras.layers import Dense\n",
        "from keras.layers import LSTM\n",
        "from keras.layers import Dropout\n",
        "# Define the model\n",
        "model = Sequential()\n",
        "model.add(Dense(500, input_shape = (10,), activation='relu',kernel_initializer='random_normal'))\n",
        "# model.add(Dropout(0.2))\n",
        "\n",
        "model.add(Dense(700, activation='relu',kernel_initializer='random_normal'))\n",
        "model.add(Dropout(0.2))\n",
        "\n",
        "model.add(Dense(100, activation='relu',kernel_initializer='random_normal'))\n",
        "model.add(Dropout(0.2))\n",
        "\n",
        "# model.add(Dense(50, activation='relu',kernel_initializer='random_normal'))\n",
        "# model.add(Dropout(0.2))\n",
        "\n",
        "# model.add(Dense(50, activation='sigmoid'))\n",
        "# model.add(Dropout(0.2))\n",
        "# model.add(Dense(50, activation='relu'))\n",
        "# model.add(Dropout(0.2))\n",
        "\n",
        "model.add(Dense(5, activation='sigmoid'))\n",
        "\n",
        "\n",
        "model.compile(loss='categorical_crossentropy', optimizer='adam',metrics=['accuracy'])"
      ],
      "metadata": {
        "id": "Hixu-9LNJP25"
      },
      "execution_count": null,
      "outputs": []
    },
    {
      "cell_type": "code",
      "source": [
        "# Train the model\n",
        "model.fit(X_train,y_train,batch_size = 32,\n",
        "          epochs=20,\n",
        "          validation_data=(X_test, y_test))"
      ],
      "metadata": {
        "colab": {
          "base_uri": "https://localhost:8080/"
        },
        "id": "forv430kJYWV",
        "outputId": "7eae53bb-5baa-4301-ef57-3df75bc23fba"
      },
      "execution_count": null,
      "outputs": [
        {
          "output_type": "stream",
          "name": "stdout",
          "text": [
            "Epoch 1/20\n",
            "133/133 [==============================] - 8s 6ms/step - loss: 0.4818 - accuracy: 0.8132 - val_loss: 0.3736 - val_accuracy: 0.8382\n",
            "Epoch 2/20\n",
            "133/133 [==============================] - 1s 5ms/step - loss: 0.3639 - accuracy: 0.8367 - val_loss: 0.3470 - val_accuracy: 0.8391\n",
            "Epoch 3/20\n",
            "133/133 [==============================] - 1s 5ms/step - loss: 0.3455 - accuracy: 0.8396 - val_loss: 0.3419 - val_accuracy: 0.8457\n",
            "Epoch 4/20\n",
            "133/133 [==============================] - 1s 4ms/step - loss: 0.3424 - accuracy: 0.8370 - val_loss: 0.3429 - val_accuracy: 0.8410\n",
            "Epoch 5/20\n",
            "133/133 [==============================] - 1s 4ms/step - loss: 0.3385 - accuracy: 0.8438 - val_loss: 0.3370 - val_accuracy: 0.8495\n",
            "Epoch 6/20\n",
            "133/133 [==============================] - 1s 4ms/step - loss: 0.3383 - accuracy: 0.8377 - val_loss: 0.3346 - val_accuracy: 0.8438\n",
            "Epoch 7/20\n",
            "133/133 [==============================] - 1s 4ms/step - loss: 0.3376 - accuracy: 0.8400 - val_loss: 0.3330 - val_accuracy: 0.8401\n",
            "Epoch 8/20\n",
            "133/133 [==============================] - 1s 4ms/step - loss: 0.3318 - accuracy: 0.8457 - val_loss: 0.3356 - val_accuracy: 0.8438\n",
            "Epoch 9/20\n",
            "133/133 [==============================] - 1s 4ms/step - loss: 0.3277 - accuracy: 0.8377 - val_loss: 0.3389 - val_accuracy: 0.8467\n",
            "Epoch 10/20\n",
            "133/133 [==============================] - 1s 4ms/step - loss: 0.3336 - accuracy: 0.8407 - val_loss: 0.3584 - val_accuracy: 0.8429\n",
            "Epoch 11/20\n",
            "133/133 [==============================] - 1s 4ms/step - loss: 0.3293 - accuracy: 0.8445 - val_loss: 0.3366 - val_accuracy: 0.8391\n",
            "Epoch 12/20\n",
            "133/133 [==============================] - 1s 4ms/step - loss: 0.3262 - accuracy: 0.8431 - val_loss: 0.3225 - val_accuracy: 0.8429\n",
            "Epoch 13/20\n",
            "133/133 [==============================] - 1s 4ms/step - loss: 0.3283 - accuracy: 0.8414 - val_loss: 0.3352 - val_accuracy: 0.8514\n",
            "Epoch 14/20\n",
            "133/133 [==============================] - 1s 4ms/step - loss: 0.3243 - accuracy: 0.8424 - val_loss: 0.3280 - val_accuracy: 0.8420\n",
            "Epoch 15/20\n",
            "133/133 [==============================] - 1s 4ms/step - loss: 0.3257 - accuracy: 0.8487 - val_loss: 0.3219 - val_accuracy: 0.8448\n",
            "Epoch 16/20\n",
            "133/133 [==============================] - 1s 4ms/step - loss: 0.3269 - accuracy: 0.8426 - val_loss: 0.3404 - val_accuracy: 0.8363\n",
            "Epoch 17/20\n",
            "133/133 [==============================] - 1s 4ms/step - loss: 0.3246 - accuracy: 0.8497 - val_loss: 0.3193 - val_accuracy: 0.8448\n",
            "Epoch 18/20\n",
            "133/133 [==============================] - 1s 6ms/step - loss: 0.3285 - accuracy: 0.8431 - val_loss: 0.3200 - val_accuracy: 0.8467\n",
            "Epoch 19/20\n",
            "133/133 [==============================] - 1s 6ms/step - loss: 0.3270 - accuracy: 0.8469 - val_loss: 0.3249 - val_accuracy: 0.8391\n",
            "Epoch 20/20\n",
            "133/133 [==============================] - 1s 6ms/step - loss: 0.3227 - accuracy: 0.8452 - val_loss: 0.3217 - val_accuracy: 0.8391\n"
          ]
        },
        {
          "output_type": "execute_result",
          "data": {
            "text/plain": [
              "<keras.callbacks.History at 0x7f297c054af0>"
            ]
          },
          "metadata": {},
          "execution_count": 6
        }
      ]
    },
    {
      "cell_type": "code",
      "source": [
        "\n",
        "ctm_class = ctm_class.drop('NextPurchaseDay', axis=1)\n",
        "\n",
        "X, y = ctm_class.drop('NextPurchaseDayRange', axis=1), ctm_class.NextPurchaseDayRange\n",
        "# X_train, X_test, y_train, y_test = train_test_split(X, y, test_size=0.2, random_state=None, shuffle=True)\n",
        "\n",
        "sc = MinMaxScaler()\n",
        "X = sc.fit_transform(X)\n",
        "\n",
        "X_train, X_test, y_train, y_test = train_test_split(X, y, test_size=0.2, random_state=44)\n",
        "\n",
        "X_train = np.reshape(X_train, (X_train.shape[0], 1, X_train.shape[1]))\n",
        "X_test = np.reshape(X_test, (X_test.shape[0], 1, X_test.shape[1]))"
      ],
      "metadata": {
        "id": "Uw0LWT5ALWTP"
      },
      "execution_count": null,
      "outputs": []
    },
    {
      "cell_type": "code",
      "source": [
        "X_train.shape\n"
      ],
      "metadata": {
        "colab": {
          "base_uri": "https://localhost:8080/"
        },
        "id": "PKlrblJtE_7C",
        "outputId": "e03aefcc-589e-41e2-a24d-6f21275e5412"
      },
      "execution_count": null,
      "outputs": [
        {
          "output_type": "execute_result",
          "data": {
            "text/plain": [
              "(4251, 1, 11)"
            ]
          },
          "metadata": {},
          "execution_count": 4
        }
      ]
    },
    {
      "cell_type": "code",
      "source": [
        "X_test.shape"
      ],
      "metadata": {
        "colab": {
          "base_uri": "https://localhost:8080/"
        },
        "id": "lOTCRftxFFjE",
        "outputId": "604db6d9-88e8-4143-eadb-f4421799a4be"
      },
      "execution_count": null,
      "outputs": [
        {
          "output_type": "execute_result",
          "data": {
            "text/plain": [
              "(1063, 1, 11)"
            ]
          },
          "metadata": {},
          "execution_count": 5
        }
      ]
    },
    {
      "cell_type": "code",
      "source": [
        "ctm_class = ctm_class.drop('NextPurchaseDay', axis=1)\n",
        "ctm_class = ctm_class.drop('CustomerID', axis=1)\n",
        "X, y = ctm_class.drop('NextPurchaseDayRange',axis=1), ctm_class.NextPurchaseDayRange\n",
        "X_train, X_test, y_train, y_test = train_test_split(X, y, test_size=0.2, random_state=44)"
      ],
      "metadata": {
        "id": "K-JEJlZhLcZZ"
      },
      "execution_count": null,
      "outputs": []
    },
    {
      "cell_type": "code",
      "source": [
        "# Create an array of models\n",
        "models = []\n",
        "models.append((\"LogisticRegression\", LogisticRegression()))\n",
        "models.append((\"GaussianNB\", GaussianNB()))\n",
        "models.append((\"RandomForestClassifier\", RandomForestClassifier()))\n",
        "models.append((\"SVC\", SVC()))\n",
        "models.append((\"DecisionTreeClassifier\", DecisionTreeClassifier()))\n",
        "models.append((\"xgb.XGBClassifier\", xgb.XGBClassifier(eval_metric='mlogloss')))\n",
        "models.append((\"KNeighborsClassifier\", KNeighborsClassifier()))"
      ],
      "metadata": {
        "id": "bP1gOvUmgcyK"
      },
      "execution_count": null,
      "outputs": []
    },
    {
      "cell_type": "code",
      "source": [
        "#measure the accuracy \n",
        "for name,model in models:\n",
        "    kfold = KFold(n_splits=2, shuffle=True, random_state=22)\n",
        "    cv_result = cross_val_score(model,X_train,y_train, cv = kfold,scoring = \"accuracy\")\n",
        "    print(name, cv_result)"
      ],
      "metadata": {
        "colab": {
          "base_uri": "https://localhost:8080/"
        },
        "id": "fBWiSC9IgjFy",
        "outputId": "9b22538b-31a2-4d43-e1f4-d5e3671cf650"
      },
      "execution_count": null,
      "outputs": [
        {
          "output_type": "stream",
          "name": "stdout",
          "text": [
            "LogisticRegression [0.82784572 0.84988235]\n",
            "GaussianNB [0.77375353 0.81788235]\n",
            "RandomForestClassifier [0.83207902 0.85129412]\n",
            "SVC [0.81185325 0.82164706]\n",
            "DecisionTreeClassifier [0.80573848 0.83952941]\n",
            "xgb.XGBClassifier [0.82690499 0.84235294]\n",
            "KNeighborsClassifier [0.7953904  0.82870588]\n"
          ]
        }
      ]
    },
    {
      "cell_type": "code",
      "source": [
        "\n",
        "from keras.models import Sequential\n",
        "from keras.layers import Dense\n",
        "from keras.layers import LSTM\n",
        "from keras.layers import Dropout\n",
        "\n",
        "model = Sequential()\n",
        "\n",
        "model.add(LSTM(units = 50, return_sequences = True, input_shape = (X_train.shape[1], 11)))\n",
        "model.add(Dropout(0.2))\n",
        "\n",
        "model.add(LSTM(units = 50, return_sequences = True))\n",
        "model.add(Dropout(0.2))\n",
        "\n",
        "# model.add(LSTM(units = 50, return_sequences = True))\n",
        "# model.add(Dropout(0.2))\n",
        "\n",
        "model.add(LSTM(units = 50))\n",
        "model.add(Dropout(0.2))\n",
        "\n",
        "model.add(Dense(units = 1,activation='softmax',))\n",
        "\n",
        "model.compile(optimizer = 'adam', loss = 'mean_squared_error', metrics = ['accuracy'])\n",
        "\n",
        "\n",
        "history= model.fit(X_train, y_train, epochs = 50, batch_size = 32)"
      ],
      "metadata": {
        "colab": {
          "base_uri": "https://localhost:8080/"
        },
        "id": "7jtuhCeo_AF4",
        "outputId": "80a2494f-62d6-4a13-8258-85b985edc4bb"
      },
      "execution_count": null,
      "outputs": [
        {
          "output_type": "stream",
          "name": "stdout",
          "text": [
            "Epoch 1/50\n",
            "133/133 [==============================] - 6s 5ms/step - loss: 0.3917 - accuracy: 0.8085\n",
            "Epoch 2/50\n",
            "133/133 [==============================] - 1s 5ms/step - loss: 0.2783 - accuracy: 0.8069\n",
            "Epoch 3/50\n",
            "133/133 [==============================] - 1s 5ms/step - loss: 0.2395 - accuracy: 0.8297\n",
            "Epoch 4/50\n",
            "133/133 [==============================] - 1s 7ms/step - loss: 0.2305 - accuracy: 0.8393\n",
            "Epoch 5/50\n",
            "133/133 [==============================] - 1s 7ms/step - loss: 0.2315 - accuracy: 0.8375\n",
            "Epoch 6/50\n",
            "133/133 [==============================] - 1s 8ms/step - loss: 0.2267 - accuracy: 0.8375\n",
            "Epoch 7/50\n",
            "133/133 [==============================] - 1s 8ms/step - loss: 0.2263 - accuracy: 0.8363\n",
            "Epoch 8/50\n",
            "133/133 [==============================] - 1s 6ms/step - loss: 0.2234 - accuracy: 0.8407\n",
            "Epoch 9/50\n",
            "133/133 [==============================] - 1s 5ms/step - loss: 0.2246 - accuracy: 0.8396\n",
            "Epoch 10/50\n",
            "133/133 [==============================] - 1s 5ms/step - loss: 0.2233 - accuracy: 0.8414\n",
            "Epoch 11/50\n",
            "133/133 [==============================] - 1s 5ms/step - loss: 0.2230 - accuracy: 0.8426\n",
            "Epoch 12/50\n",
            "133/133 [==============================] - 1s 5ms/step - loss: 0.2243 - accuracy: 0.8419\n",
            "Epoch 13/50\n",
            "133/133 [==============================] - 1s 5ms/step - loss: 0.2210 - accuracy: 0.8466\n",
            "Epoch 14/50\n",
            "133/133 [==============================] - 1s 5ms/step - loss: 0.2226 - accuracy: 0.8419\n",
            "Epoch 15/50\n",
            "133/133 [==============================] - 1s 5ms/step - loss: 0.2211 - accuracy: 0.8438\n",
            "Epoch 16/50\n",
            "133/133 [==============================] - 1s 5ms/step - loss: 0.2221 - accuracy: 0.8384\n",
            "Epoch 17/50\n",
            "133/133 [==============================] - 1s 5ms/step - loss: 0.2216 - accuracy: 0.8422\n",
            "Epoch 18/50\n",
            "133/133 [==============================] - 1s 5ms/step - loss: 0.2206 - accuracy: 0.8443\n",
            "Epoch 19/50\n",
            "133/133 [==============================] - 1s 5ms/step - loss: 0.2199 - accuracy: 0.8443\n",
            "Epoch 20/50\n",
            "133/133 [==============================] - 1s 5ms/step - loss: 0.2203 - accuracy: 0.8450\n",
            "Epoch 21/50\n",
            "133/133 [==============================] - 1s 5ms/step - loss: 0.2212 - accuracy: 0.8433\n",
            "Epoch 22/50\n",
            "133/133 [==============================] - 1s 5ms/step - loss: 0.2189 - accuracy: 0.8443\n",
            "Epoch 23/50\n",
            "133/133 [==============================] - 1s 7ms/step - loss: 0.2203 - accuracy: 0.8450\n",
            "Epoch 24/50\n",
            "133/133 [==============================] - 1s 7ms/step - loss: 0.2211 - accuracy: 0.8443\n",
            "Epoch 25/50\n",
            "133/133 [==============================] - 1s 8ms/step - loss: 0.2189 - accuracy: 0.8447\n",
            "Epoch 26/50\n",
            "133/133 [==============================] - 1s 7ms/step - loss: 0.2214 - accuracy: 0.8443\n",
            "Epoch 27/50\n",
            "133/133 [==============================] - 1s 5ms/step - loss: 0.2209 - accuracy: 0.8414\n",
            "Epoch 28/50\n",
            "133/133 [==============================] - 1s 5ms/step - loss: 0.2208 - accuracy: 0.8447\n",
            "Epoch 29/50\n",
            "133/133 [==============================] - 1s 5ms/step - loss: 0.2209 - accuracy: 0.8433\n",
            "Epoch 30/50\n",
            "133/133 [==============================] - 1s 5ms/step - loss: 0.2198 - accuracy: 0.8436\n",
            "Epoch 31/50\n",
            "133/133 [==============================] - 1s 5ms/step - loss: 0.2193 - accuracy: 0.8454\n",
            "Epoch 32/50\n",
            "133/133 [==============================] - 1s 5ms/step - loss: 0.2183 - accuracy: 0.8462\n",
            "Epoch 33/50\n",
            "133/133 [==============================] - 1s 5ms/step - loss: 0.2201 - accuracy: 0.8436\n",
            "Epoch 34/50\n",
            "133/133 [==============================] - 1s 6ms/step - loss: 0.2199 - accuracy: 0.8450\n",
            "Epoch 35/50\n",
            "133/133 [==============================] - 1s 6ms/step - loss: 0.2191 - accuracy: 0.8433\n",
            "Epoch 36/50\n",
            "133/133 [==============================] - 1s 5ms/step - loss: 0.2186 - accuracy: 0.8443\n",
            "Epoch 37/50\n",
            "133/133 [==============================] - 1s 5ms/step - loss: 0.2189 - accuracy: 0.8436\n",
            "Epoch 38/50\n",
            "133/133 [==============================] - 1s 5ms/step - loss: 0.2199 - accuracy: 0.8459\n",
            "Epoch 39/50\n",
            "133/133 [==============================] - 1s 6ms/step - loss: 0.2192 - accuracy: 0.8450\n",
            "Epoch 40/50\n",
            "133/133 [==============================] - 1s 6ms/step - loss: 0.2188 - accuracy: 0.8433\n",
            "Epoch 41/50\n",
            "133/133 [==============================] - 1s 7ms/step - loss: 0.2197 - accuracy: 0.8422\n",
            "Epoch 42/50\n",
            "133/133 [==============================] - 1s 7ms/step - loss: 0.2192 - accuracy: 0.8466\n",
            "Epoch 43/50\n",
            "133/133 [==============================] - 1s 7ms/step - loss: 0.2180 - accuracy: 0.8471\n",
            "Epoch 44/50\n",
            "133/133 [==============================] - 1s 7ms/step - loss: 0.2177 - accuracy: 0.8452\n",
            "Epoch 45/50\n",
            "133/133 [==============================] - 1s 7ms/step - loss: 0.2195 - accuracy: 0.8429\n",
            "Epoch 46/50\n",
            "133/133 [==============================] - 1s 5ms/step - loss: 0.2192 - accuracy: 0.8440\n",
            "Epoch 47/50\n",
            "133/133 [==============================] - 1s 5ms/step - loss: 0.2199 - accuracy: 0.8450\n",
            "Epoch 48/50\n",
            "133/133 [==============================] - 1s 5ms/step - loss: 0.2185 - accuracy: 0.8438\n",
            "Epoch 49/50\n",
            "133/133 [==============================] - 1s 5ms/step - loss: 0.2191 - accuracy: 0.8431\n",
            "Epoch 50/50\n",
            "133/133 [==============================] - 1s 6ms/step - loss: 0.2183 - accuracy: 0.8440\n"
          ]
        }
      ]
    },
    {
      "cell_type": "code",
      "source": [
        "eval_model = model.evaluate(X_train, y_train)\n",
        "eval_model"
      ],
      "metadata": {
        "colab": {
          "base_uri": "https://localhost:8080/"
        },
        "id": "MrMiRzNsEDAh",
        "outputId": "c3f6da56-6933-4e80-bdfc-b0f34771f0de"
      },
      "execution_count": null,
      "outputs": [
        {
          "output_type": "stream",
          "name": "stdout",
          "text": [
            "133/133 [==============================] - 4s 8ms/step - loss: 0.1360 - accuracy: 0.8398\n"
          ]
        },
        {
          "output_type": "execute_result",
          "data": {
            "text/plain": [
              "[0.13603532314300537, 0.8398023843765259]"
            ]
          },
          "metadata": {},
          "execution_count": 39
        }
      ]
    },
    {
      "cell_type": "code",
      "source": [
        "def plot_graphs(history, string):\n",
        "  plt.plot(history.history[string])\n",
        "  plt.plot(history.history['val_'+string])\n",
        "  plt.xlabel(\"Epochs\")\n",
        "  plt.ylabel(string)\n",
        "  plt.legend([string, 'val_'+string])\n",
        "  plt.show()\n",
        "  \n",
        "plot_graphs(history, \"accuracy\")\n",
        "plot_graphs(history, \"loss\")"
      ],
      "metadata": {
        "colab": {
          "base_uri": "https://localhost:8080/",
          "height": 752
        },
        "id": "TSVI40BnEHrx",
        "outputId": "e78620af-8528-4123-90dd-d5f6750b9c78"
      },
      "execution_count": null,
      "outputs": [
        {
          "output_type": "error",
          "ename": "KeyError",
          "evalue": "ignored",
          "traceback": [
            "\u001b[0;31m---------------------------------------------------------------------------\u001b[0m",
            "\u001b[0;31mKeyError\u001b[0m                                  Traceback (most recent call last)",
            "\u001b[0;32m<ipython-input-7-ca4b5f3cfcf6>\u001b[0m in \u001b[0;36m<cell line: 9>\u001b[0;34m()\u001b[0m\n\u001b[1;32m      7\u001b[0m   \u001b[0mplt\u001b[0m\u001b[0;34m.\u001b[0m\u001b[0mshow\u001b[0m\u001b[0;34m(\u001b[0m\u001b[0;34m)\u001b[0m\u001b[0;34m\u001b[0m\u001b[0;34m\u001b[0m\u001b[0m\n\u001b[1;32m      8\u001b[0m \u001b[0;34m\u001b[0m\u001b[0m\n\u001b[0;32m----> 9\u001b[0;31m \u001b[0mplot_graphs\u001b[0m\u001b[0;34m(\u001b[0m\u001b[0mhistory\u001b[0m\u001b[0;34m,\u001b[0m \u001b[0;34m\"accuracy\"\u001b[0m\u001b[0;34m)\u001b[0m\u001b[0;34m\u001b[0m\u001b[0;34m\u001b[0m\u001b[0m\n\u001b[0m\u001b[1;32m     10\u001b[0m \u001b[0mplot_graphs\u001b[0m\u001b[0;34m(\u001b[0m\u001b[0mhistory\u001b[0m\u001b[0;34m,\u001b[0m \u001b[0;34m\"loss\"\u001b[0m\u001b[0;34m)\u001b[0m\u001b[0;34m\u001b[0m\u001b[0;34m\u001b[0m\u001b[0m\n",
            "\u001b[0;32m<ipython-input-7-ca4b5f3cfcf6>\u001b[0m in \u001b[0;36mplot_graphs\u001b[0;34m(history, string)\u001b[0m\n\u001b[1;32m      1\u001b[0m \u001b[0;32mdef\u001b[0m \u001b[0mplot_graphs\u001b[0m\u001b[0;34m(\u001b[0m\u001b[0mhistory\u001b[0m\u001b[0;34m,\u001b[0m \u001b[0mstring\u001b[0m\u001b[0;34m)\u001b[0m\u001b[0;34m:\u001b[0m\u001b[0;34m\u001b[0m\u001b[0;34m\u001b[0m\u001b[0m\n\u001b[1;32m      2\u001b[0m   \u001b[0mplt\u001b[0m\u001b[0;34m.\u001b[0m\u001b[0mplot\u001b[0m\u001b[0;34m(\u001b[0m\u001b[0mhistory\u001b[0m\u001b[0;34m.\u001b[0m\u001b[0mhistory\u001b[0m\u001b[0;34m[\u001b[0m\u001b[0mstring\u001b[0m\u001b[0;34m]\u001b[0m\u001b[0;34m)\u001b[0m\u001b[0;34m\u001b[0m\u001b[0;34m\u001b[0m\u001b[0m\n\u001b[0;32m----> 3\u001b[0;31m   \u001b[0mplt\u001b[0m\u001b[0;34m.\u001b[0m\u001b[0mplot\u001b[0m\u001b[0;34m(\u001b[0m\u001b[0mhistory\u001b[0m\u001b[0;34m.\u001b[0m\u001b[0mhistory\u001b[0m\u001b[0;34m[\u001b[0m\u001b[0;34m'val_'\u001b[0m\u001b[0;34m+\u001b[0m\u001b[0mstring\u001b[0m\u001b[0;34m]\u001b[0m\u001b[0;34m)\u001b[0m\u001b[0;34m\u001b[0m\u001b[0;34m\u001b[0m\u001b[0m\n\u001b[0m\u001b[1;32m      4\u001b[0m   \u001b[0mplt\u001b[0m\u001b[0;34m.\u001b[0m\u001b[0mxlabel\u001b[0m\u001b[0;34m(\u001b[0m\u001b[0;34m\"Epochs\"\u001b[0m\u001b[0;34m)\u001b[0m\u001b[0;34m\u001b[0m\u001b[0;34m\u001b[0m\u001b[0m\n\u001b[1;32m      5\u001b[0m   \u001b[0mplt\u001b[0m\u001b[0;34m.\u001b[0m\u001b[0mylabel\u001b[0m\u001b[0;34m(\u001b[0m\u001b[0mstring\u001b[0m\u001b[0;34m)\u001b[0m\u001b[0;34m\u001b[0m\u001b[0;34m\u001b[0m\u001b[0m\n",
            "\u001b[0;31mKeyError\u001b[0m: 'val_accuracy'"
          ]
        },
        {
          "output_type": "display_data",
          "data": {
            "text/plain": [
              "<Figure size 640x480 with 1 Axes>"
            ],
            "image/png": "[encoded data removed]"
          },
          "metadata": {}
        }
      ]
    },
    {
      "cell_type": "code",
      "source": [],
      "metadata": {
        "id": "5btNI7CCEPJB"
      },
      "execution_count": null,
      "outputs": []
    }
  ]
}